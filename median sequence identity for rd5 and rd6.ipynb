{
 "cells": [
  {
   "cell_type": "code",
   "execution_count": 1,
   "metadata": {},
   "outputs": [
    {
     "name": "stdout",
     "output_type": "stream",
     "text": [
      "/Volumes/GoogleDrive/My Drive/01_HEEH_design/code\r\n"
     ]
    }
   ],
   "source": [
    "!pwd"
   ]
  },
  {
   "cell_type": "markdown",
   "metadata": {},
   "source": [
    "1. analyze sequence diversity, determine how much % similarity bw designs we want in our order.\n"
   ]
  },
  {
   "cell_type": "code",
   "execution_count": 1,
   "metadata": {},
   "outputs": [],
   "source": [
    "import pandas as pd\n",
    "import numpy as np\n",
    "from scipy.spatial import distance\n",
    "import matplotlib.pyplot as plt\n",
    "import seaborn as sns\n",
    "import itertools\n",
    "import difflib\n",
    "from difflib import SequenceMatcher"
   ]
  },
  {
   "cell_type": "code",
   "execution_count": null,
   "metadata": {},
   "outputs": [],
   "source": [
    "### need 4 #s: \n",
    "median pairwise identity of all TESTED rd5, \n",
    "median pairwise identity of all STABLE rd5, \n",
    "\n",
    "median pairwise identity of all TESTED rd6 (3986 set) after filtering), \n",
    "median pairwise identity of all STABLE rd6."
   ]
  },
  {
   "cell_type": "markdown",
   "metadata": {},
   "source": [
    "## Import and prepare data\n"
   ]
  },
  {
   "cell_type": "code",
   "execution_count": 2,
   "metadata": {},
   "outputs": [],
   "source": [
    "# load data\n",
    "rd5 = pd.read_csv('../2022_HEEH_manuscript/data/stability_scores/rd5_stability_scores.csv')\n",
    "rd6 = pd.read_csv('../2022_HEEH_manuscript/data/stability_scores/rd6_stability_scores_fig4b-g.csv')"
   ]
  },
  {
   "cell_type": "code",
   "execution_count": 3,
   "metadata": {},
   "outputs": [],
   "source": [
    "# add column to separate designs from scrambles\n",
    "rd6['cat'] = ['scr' if i[-2:] == \"hp\" else \"design\" for i in rd6['name']]\n",
    "\n",
    "# rename column\n",
    "rd6.rename(columns={'protein_sequence_c':'sequence'}, inplace=True)"
   ]
  },
  {
   "cell_type": "code",
   "execution_count": 4,
   "metadata": {},
   "outputs": [],
   "source": [
    "# create df with just designs\n",
    "rd5 = rd5.query('cat==\"design\"')\n",
    "rd6 = rd6.query('cat==\"design\"')\n",
    "\n",
    "# create df with just stable designs\n",
    "rd5_stable = rd5.query('stabilityscore>1')\n",
    "rd6_stable = rd6.query('stabilityscore>1')"
   ]
  },
  {
   "cell_type": "code",
   "execution_count": 5,
   "metadata": {},
   "outputs": [
    {
     "data": {
      "text/plain": [
       "1016"
      ]
     },
     "execution_count": 5,
     "metadata": {},
     "output_type": "execute_result"
    }
   ],
   "source": [
    "len(rd6_stable)"
   ]
  },
  {
   "cell_type": "code",
   "execution_count": 6,
   "metadata": {},
   "outputs": [
    {
     "data": {
      "text/html": [
       "<div>\n",
       "<style scoped>\n",
       "    .dataframe tbody tr th:only-of-type {\n",
       "        vertical-align: middle;\n",
       "    }\n",
       "\n",
       "    .dataframe tbody tr th {\n",
       "        vertical-align: top;\n",
       "    }\n",
       "\n",
       "    .dataframe thead th {\n",
       "        text-align: right;\n",
       "    }\n",
       "</style>\n",
       "<table border=\"1\" class=\"dataframe\">\n",
       "  <thead>\n",
       "    <tr style=\"text-align: right;\">\n",
       "      <th></th>\n",
       "      <th>name</th>\n",
       "      <th>counts0_t</th>\n",
       "      <th>counts1_t</th>\n",
       "      <th>counts2_t</th>\n",
       "      <th>counts3_t</th>\n",
       "      <th>counts4_t</th>\n",
       "      <th>counts5_t</th>\n",
       "      <th>counts6_t</th>\n",
       "      <th>downsamp_counts1_t</th>\n",
       "      <th>downsamp_counts2_t</th>\n",
       "      <th>...</th>\n",
       "      <th>ec50_95ci_c</th>\n",
       "      <th>ec50_c</th>\n",
       "      <th>full_protein_sequence_c</th>\n",
       "      <th>ec50_pred_c</th>\n",
       "      <th>ec50_rise_c</th>\n",
       "      <th>stabilityscore_c</th>\n",
       "      <th>stabilityscore</th>\n",
       "      <th>ec50_95ci</th>\n",
       "      <th>sequence</th>\n",
       "      <th>cat</th>\n",
       "    </tr>\n",
       "  </thead>\n",
       "  <tbody>\n",
       "    <tr>\n",
       "      <th>0</th>\n",
       "      <td>HEEH_TK_rd5_0001.pdb</td>\n",
       "      <td>143</td>\n",
       "      <td>145</td>\n",
       "      <td>161</td>\n",
       "      <td>312</td>\n",
       "      <td>201</td>\n",
       "      <td>45</td>\n",
       "      <td>14</td>\n",
       "      <td>71</td>\n",
       "      <td>106</td>\n",
       "      <td>...</td>\n",
       "      <td>0.0</td>\n",
       "      <td>4.122306</td>\n",
       "      <td>GGGSASHMSLEELLRLAEELLRNGQSIHILGIEVRREEEAEELLRL...</td>\n",
       "      <td>-0.076770</td>\n",
       "      <td>4.199077</td>\n",
       "      <td>2.003469</td>\n",
       "      <td>1.913482</td>\n",
       "      <td>0.0</td>\n",
       "      <td>SLEELLRLAEELLRNGQSIHILGIEVRREEEAEELLRLLRRLI</td>\n",
       "      <td>design</td>\n",
       "    </tr>\n",
       "    <tr>\n",
       "      <th>1</th>\n",
       "      <td>HEEH_TK_rd5_0002.pdb</td>\n",
       "      <td>24</td>\n",
       "      <td>40</td>\n",
       "      <td>29</td>\n",
       "      <td>71</td>\n",
       "      <td>49</td>\n",
       "      <td>86</td>\n",
       "      <td>129</td>\n",
       "      <td>19</td>\n",
       "      <td>19</td>\n",
       "      <td>...</td>\n",
       "      <td>0.0</td>\n",
       "      <td>5.117518</td>\n",
       "      <td>GGGSASHMDIEELIRLLEEALRKNQSITILGFEVRHEEEFEHLLRI...</td>\n",
       "      <td>0.459088</td>\n",
       "      <td>4.658430</td>\n",
       "      <td>2.222636</td>\n",
       "      <td>2.222636</td>\n",
       "      <td>0.5</td>\n",
       "      <td>DIEELIRLLEEALRKNQSITILGFEVRHEEEFEHLLRILRELL</td>\n",
       "      <td>design</td>\n",
       "    </tr>\n",
       "    <tr>\n",
       "      <th>2</th>\n",
       "      <td>HEEH_TK_rd5_0003.pdb</td>\n",
       "      <td>232</td>\n",
       "      <td>351</td>\n",
       "      <td>323</td>\n",
       "      <td>549</td>\n",
       "      <td>567</td>\n",
       "      <td>982</td>\n",
       "      <td>1012</td>\n",
       "      <td>172</td>\n",
       "      <td>214</td>\n",
       "      <td>...</td>\n",
       "      <td>0.0</td>\n",
       "      <td>5.361894</td>\n",
       "      <td>GGGSASHMTLEELLKEAERLLREGHSLHIAGIEIRDEEELRKAFEW...</td>\n",
       "      <td>-0.245634</td>\n",
       "      <td>5.607528</td>\n",
       "      <td>2.675471</td>\n",
       "      <td>2.501998</td>\n",
       "      <td>0.1</td>\n",
       "      <td>TLEELLKEAERLLREGHSLHIAGIEIRDEEELRKAFEWLRRWL</td>\n",
       "      <td>design</td>\n",
       "    </tr>\n",
       "    <tr>\n",
       "      <th>3</th>\n",
       "      <td>HEEH_TK_rd5_0004.pdb</td>\n",
       "      <td>97</td>\n",
       "      <td>226</td>\n",
       "      <td>148</td>\n",
       "      <td>300</td>\n",
       "      <td>364</td>\n",
       "      <td>629</td>\n",
       "      <td>668</td>\n",
       "      <td>110</td>\n",
       "      <td>98</td>\n",
       "      <td>...</td>\n",
       "      <td>0.0</td>\n",
       "      <td>5.015991</td>\n",
       "      <td>GGGSASHMTEEDLLELLREALRKGEEITIAGIRVTNEEAFEELLRW...</td>\n",
       "      <td>0.738729</td>\n",
       "      <td>4.277262</td>\n",
       "      <td>2.040773</td>\n",
       "      <td>1.988258</td>\n",
       "      <td>0.1</td>\n",
       "      <td>TEEDLLELLREALRKGEEITIAGIRVTNEEAFEELLRWLEKWI</td>\n",
       "      <td>design</td>\n",
       "    </tr>\n",
       "    <tr>\n",
       "      <th>4</th>\n",
       "      <td>HEEH_TK_rd5_0005.pdb</td>\n",
       "      <td>184</td>\n",
       "      <td>273</td>\n",
       "      <td>241</td>\n",
       "      <td>450</td>\n",
       "      <td>386</td>\n",
       "      <td>685</td>\n",
       "      <td>682</td>\n",
       "      <td>133</td>\n",
       "      <td>160</td>\n",
       "      <td>...</td>\n",
       "      <td>0.0</td>\n",
       "      <td>4.999597</td>\n",
       "      <td>GGGSASHMTIEELLREIEDLLRKGIEFHWAGITIKTEEEARKILEH...</td>\n",
       "      <td>0.819071</td>\n",
       "      <td>4.180526</td>\n",
       "      <td>1.994618</td>\n",
       "      <td>1.994618</td>\n",
       "      <td>0.1</td>\n",
       "      <td>TIEELLREIEDLLRKGIEFHWAGITIKTEEEARKILEHLRRLL</td>\n",
       "      <td>design</td>\n",
       "    </tr>\n",
       "    <tr>\n",
       "      <th>...</th>\n",
       "      <td>...</td>\n",
       "      <td>...</td>\n",
       "      <td>...</td>\n",
       "      <td>...</td>\n",
       "      <td>...</td>\n",
       "      <td>...</td>\n",
       "      <td>...</td>\n",
       "      <td>...</td>\n",
       "      <td>...</td>\n",
       "      <td>...</td>\n",
       "      <td>...</td>\n",
       "      <td>...</td>\n",
       "      <td>...</td>\n",
       "      <td>...</td>\n",
       "      <td>...</td>\n",
       "      <td>...</td>\n",
       "      <td>...</td>\n",
       "      <td>...</td>\n",
       "      <td>...</td>\n",
       "      <td>...</td>\n",
       "      <td>...</td>\n",
       "    </tr>\n",
       "    <tr>\n",
       "      <th>5595</th>\n",
       "      <td>HEEH_TK_rd5_5975.pdb</td>\n",
       "      <td>5</td>\n",
       "      <td>10</td>\n",
       "      <td>19</td>\n",
       "      <td>22</td>\n",
       "      <td>32</td>\n",
       "      <td>4</td>\n",
       "      <td>0</td>\n",
       "      <td>4</td>\n",
       "      <td>12</td>\n",
       "      <td>...</td>\n",
       "      <td>0.3</td>\n",
       "      <td>5.649045</td>\n",
       "      <td>GGGSASHMDLEEIKRIIDEALEKGEDITIAGIRITTEEEAKKAKEW...</td>\n",
       "      <td>1.890061</td>\n",
       "      <td>3.758984</td>\n",
       "      <td>1.793491</td>\n",
       "      <td>1.217251</td>\n",
       "      <td>0.5</td>\n",
       "      <td>DLEEIKRIIDEALEKGEDITIAGIRITTEEEAKKAKEWFEREI</td>\n",
       "      <td>design</td>\n",
       "    </tr>\n",
       "    <tr>\n",
       "      <th>5596</th>\n",
       "      <td>HEEH_TK_rd5_5976.pdb</td>\n",
       "      <td>14</td>\n",
       "      <td>33</td>\n",
       "      <td>12</td>\n",
       "      <td>31</td>\n",
       "      <td>7</td>\n",
       "      <td>1</td>\n",
       "      <td>0</td>\n",
       "      <td>16</td>\n",
       "      <td>7</td>\n",
       "      <td>...</td>\n",
       "      <td>0.2</td>\n",
       "      <td>3.405229</td>\n",
       "      <td>GGGSASHMHLREIEEEIKEALKRNETFHFAGIEVRSEEDLERFIRI...</td>\n",
       "      <td>0.706902</td>\n",
       "      <td>2.698327</td>\n",
       "      <td>1.287429</td>\n",
       "      <td>1.287429</td>\n",
       "      <td>0.4</td>\n",
       "      <td>HLREIEEEIKEALKRNETFHFAGIEVRSEEDLERFIRILEKRI</td>\n",
       "      <td>design</td>\n",
       "    </tr>\n",
       "    <tr>\n",
       "      <th>5597</th>\n",
       "      <td>HEEH_TK_rd5_5977.pdb</td>\n",
       "      <td>117</td>\n",
       "      <td>179</td>\n",
       "      <td>144</td>\n",
       "      <td>240</td>\n",
       "      <td>232</td>\n",
       "      <td>281</td>\n",
       "      <td>52</td>\n",
       "      <td>87</td>\n",
       "      <td>95</td>\n",
       "      <td>...</td>\n",
       "      <td>0.0</td>\n",
       "      <td>5.206391</td>\n",
       "      <td>GGGSASHMTLEEIEKIAKEALKRGETVRIAGFEVRDEEEARKLLEW...</td>\n",
       "      <td>-0.159216</td>\n",
       "      <td>5.365607</td>\n",
       "      <td>2.560045</td>\n",
       "      <td>2.127224</td>\n",
       "      <td>0.1</td>\n",
       "      <td>TLEEIEKIAKEALKRGETVRIAGFEVRDEEEARKLLEWFRRLF</td>\n",
       "      <td>design</td>\n",
       "    </tr>\n",
       "    <tr>\n",
       "      <th>5602</th>\n",
       "      <td>HEEH_TK_rd5_5983.pdb</td>\n",
       "      <td>275</td>\n",
       "      <td>362</td>\n",
       "      <td>329</td>\n",
       "      <td>665</td>\n",
       "      <td>440</td>\n",
       "      <td>71</td>\n",
       "      <td>23</td>\n",
       "      <td>177</td>\n",
       "      <td>218</td>\n",
       "      <td>...</td>\n",
       "      <td>0.0</td>\n",
       "      <td>4.216813</td>\n",
       "      <td>GGGSASHMDWEELAKKIEEAIRNGRSFHWAHIEVHTEEEARRVIEE...</td>\n",
       "      <td>1.137695</td>\n",
       "      <td>3.079118</td>\n",
       "      <td>1.469112</td>\n",
       "      <td>1.469112</td>\n",
       "      <td>0.0</td>\n",
       "      <td>DWEELAKKIEEAIRNGRSFHWAHIEVHTEEEARRVIEEIRRRI</td>\n",
       "      <td>design</td>\n",
       "    </tr>\n",
       "    <tr>\n",
       "      <th>5610</th>\n",
       "      <td>HEEH_TK_rd5_5991.pdb</td>\n",
       "      <td>221</td>\n",
       "      <td>327</td>\n",
       "      <td>215</td>\n",
       "      <td>427</td>\n",
       "      <td>383</td>\n",
       "      <td>342</td>\n",
       "      <td>177</td>\n",
       "      <td>160</td>\n",
       "      <td>142</td>\n",
       "      <td>...</td>\n",
       "      <td>0.0</td>\n",
       "      <td>4.125108</td>\n",
       "      <td>GGGSASHMDEEDFKRWLEHALKRGQDIHLFGWTIKSEDEARKILEW...</td>\n",
       "      <td>-0.155021</td>\n",
       "      <td>4.280129</td>\n",
       "      <td>2.042141</td>\n",
       "      <td>2.042141</td>\n",
       "      <td>0.0</td>\n",
       "      <td>DEEDFKRWLEHALKRGQDIHLFGWTIKSEDEARKILEWLKRFV</td>\n",
       "      <td>design</td>\n",
       "    </tr>\n",
       "  </tbody>\n",
       "</table>\n",
       "<p>2138 rows × 90 columns</p>\n",
       "</div>"
      ],
      "text/plain": [
       "                      name  counts0_t  counts1_t  counts2_t  counts3_t  \\\n",
       "0     HEEH_TK_rd5_0001.pdb        143        145        161        312   \n",
       "1     HEEH_TK_rd5_0002.pdb         24         40         29         71   \n",
       "2     HEEH_TK_rd5_0003.pdb        232        351        323        549   \n",
       "3     HEEH_TK_rd5_0004.pdb         97        226        148        300   \n",
       "4     HEEH_TK_rd5_0005.pdb        184        273        241        450   \n",
       "...                    ...        ...        ...        ...        ...   \n",
       "5595  HEEH_TK_rd5_5975.pdb          5         10         19         22   \n",
       "5596  HEEH_TK_rd5_5976.pdb         14         33         12         31   \n",
       "5597  HEEH_TK_rd5_5977.pdb        117        179        144        240   \n",
       "5602  HEEH_TK_rd5_5983.pdb        275        362        329        665   \n",
       "5610  HEEH_TK_rd5_5991.pdb        221        327        215        427   \n",
       "\n",
       "      counts4_t  counts5_t  counts6_t  downsamp_counts1_t  downsamp_counts2_t  \\\n",
       "0           201         45         14                  71                 106   \n",
       "1            49         86        129                  19                  19   \n",
       "2           567        982       1012                 172                 214   \n",
       "3           364        629        668                 110                  98   \n",
       "4           386        685        682                 133                 160   \n",
       "...         ...        ...        ...                 ...                 ...   \n",
       "5595         32          4          0                   4                  12   \n",
       "5596          7          1          0                  16                   7   \n",
       "5597        232        281         52                  87                  95   \n",
       "5602        440         71         23                 177                 218   \n",
       "5610        383        342        177                 160                 142   \n",
       "\n",
       "      ...  ec50_95ci_c    ec50_c  \\\n",
       "0     ...          0.0  4.122306   \n",
       "1     ...          0.0  5.117518   \n",
       "2     ...          0.0  5.361894   \n",
       "3     ...          0.0  5.015991   \n",
       "4     ...          0.0  4.999597   \n",
       "...   ...          ...       ...   \n",
       "5595  ...          0.3  5.649045   \n",
       "5596  ...          0.2  3.405229   \n",
       "5597  ...          0.0  5.206391   \n",
       "5602  ...          0.0  4.216813   \n",
       "5610  ...          0.0  4.125108   \n",
       "\n",
       "                                full_protein_sequence_c  ec50_pred_c  \\\n",
       "0     GGGSASHMSLEELLRLAEELLRNGQSIHILGIEVRREEEAEELLRL...    -0.076770   \n",
       "1     GGGSASHMDIEELIRLLEEALRKNQSITILGFEVRHEEEFEHLLRI...     0.459088   \n",
       "2     GGGSASHMTLEELLKEAERLLREGHSLHIAGIEIRDEEELRKAFEW...    -0.245634   \n",
       "3     GGGSASHMTEEDLLELLREALRKGEEITIAGIRVTNEEAFEELLRW...     0.738729   \n",
       "4     GGGSASHMTIEELLREIEDLLRKGIEFHWAGITIKTEEEARKILEH...     0.819071   \n",
       "...                                                 ...          ...   \n",
       "5595  GGGSASHMDLEEIKRIIDEALEKGEDITIAGIRITTEEEAKKAKEW...     1.890061   \n",
       "5596  GGGSASHMHLREIEEEIKEALKRNETFHFAGIEVRSEEDLERFIRI...     0.706902   \n",
       "5597  GGGSASHMTLEEIEKIAKEALKRGETVRIAGFEVRDEEEARKLLEW...    -0.159216   \n",
       "5602  GGGSASHMDWEELAKKIEEAIRNGRSFHWAHIEVHTEEEARRVIEE...     1.137695   \n",
       "5610  GGGSASHMDEEDFKRWLEHALKRGQDIHLFGWTIKSEDEARKILEW...    -0.155021   \n",
       "\n",
       "      ec50_rise_c  stabilityscore_c  stabilityscore  ec50_95ci  \\\n",
       "0        4.199077          2.003469        1.913482        0.0   \n",
       "1        4.658430          2.222636        2.222636        0.5   \n",
       "2        5.607528          2.675471        2.501998        0.1   \n",
       "3        4.277262          2.040773        1.988258        0.1   \n",
       "4        4.180526          1.994618        1.994618        0.1   \n",
       "...           ...               ...             ...        ...   \n",
       "5595     3.758984          1.793491        1.217251        0.5   \n",
       "5596     2.698327          1.287429        1.287429        0.4   \n",
       "5597     5.365607          2.560045        2.127224        0.1   \n",
       "5602     3.079118          1.469112        1.469112        0.0   \n",
       "5610     4.280129          2.042141        2.042141        0.0   \n",
       "\n",
       "                                         sequence     cat  \n",
       "0     SLEELLRLAEELLRNGQSIHILGIEVRREEEAEELLRLLRRLI  design  \n",
       "1     DIEELIRLLEEALRKNQSITILGFEVRHEEEFEHLLRILRELL  design  \n",
       "2     TLEELLKEAERLLREGHSLHIAGIEIRDEEELRKAFEWLRRWL  design  \n",
       "3     TEEDLLELLREALRKGEEITIAGIRVTNEEAFEELLRWLEKWI  design  \n",
       "4     TIEELLREIEDLLRKGIEFHWAGITIKTEEEARKILEHLRRLL  design  \n",
       "...                                           ...     ...  \n",
       "5595  DLEEIKRIIDEALEKGEDITIAGIRITTEEEAKKAKEWFEREI  design  \n",
       "5596  HLREIEEEIKEALKRNETFHFAGIEVRSEEDLERFIRILEKRI  design  \n",
       "5597  TLEEIEKIAKEALKRGETVRIAGFEVRDEEEARKLLEWFRRLF  design  \n",
       "5602  DWEELAKKIEEAIRNGRSFHWAHIEVHTEEEARRVIEEIRRRI  design  \n",
       "5610  DEEDFKRWLEHALKRGQDIHLFGWTIKSEDEARKILEWLKRFV  design  \n",
       "\n",
       "[2138 rows x 90 columns]"
      ]
     },
     "execution_count": 6,
     "metadata": {},
     "output_type": "execute_result"
    }
   ],
   "source": [
    "rd5_stable"
   ]
  },
  {
   "cell_type": "code",
   "execution_count": 7,
   "metadata": {},
   "outputs": [
    {
     "data": {
      "text/html": [
       "<div>\n",
       "<style scoped>\n",
       "    .dataframe tbody tr th:only-of-type {\n",
       "        vertical-align: middle;\n",
       "    }\n",
       "\n",
       "    .dataframe tbody tr th {\n",
       "        vertical-align: top;\n",
       "    }\n",
       "\n",
       "    .dataframe thead th {\n",
       "        text-align: right;\n",
       "    }\n",
       "</style>\n",
       "<table border=\"1\" class=\"dataframe\">\n",
       "  <thead>\n",
       "    <tr style=\"text-align: right;\">\n",
       "      <th></th>\n",
       "      <th>name</th>\n",
       "      <th>sequence</th>\n",
       "    </tr>\n",
       "  </thead>\n",
       "  <tbody>\n",
       "    <tr>\n",
       "      <th>0</th>\n",
       "      <td>HEEH_TK_rd5_0001.pdb</td>\n",
       "      <td>SLEELLRLAEELLRNGQSIHILGIEVRREEEAEELLRLLRRLI</td>\n",
       "    </tr>\n",
       "    <tr>\n",
       "      <th>1</th>\n",
       "      <td>HEEH_TK_rd5_0002.pdb</td>\n",
       "      <td>DIEELIRLLEEALRKNQSITILGFEVRHEEEFEHLLRILRELL</td>\n",
       "    </tr>\n",
       "    <tr>\n",
       "      <th>2</th>\n",
       "      <td>HEEH_TK_rd5_0003.pdb</td>\n",
       "      <td>TLEELLKEAERLLREGHSLHIAGIEIRDEEELRKAFEWLRRWL</td>\n",
       "    </tr>\n",
       "    <tr>\n",
       "      <th>3</th>\n",
       "      <td>HEEH_TK_rd5_0004.pdb</td>\n",
       "      <td>TEEDLLELLREALRKGEEITIAGIRVTNEEAFEELLRWLEKWI</td>\n",
       "    </tr>\n",
       "    <tr>\n",
       "      <th>4</th>\n",
       "      <td>HEEH_TK_rd5_0005.pdb</td>\n",
       "      <td>TIEELLREIEDLLRKGIEFHWAGITIKTEEEARKILEHLRRLL</td>\n",
       "    </tr>\n",
       "    <tr>\n",
       "      <th>...</th>\n",
       "      <td>...</td>\n",
       "      <td>...</td>\n",
       "    </tr>\n",
       "    <tr>\n",
       "      <th>5613</th>\n",
       "      <td>HEEH_TK_rd5_5995.pdb</td>\n",
       "      <td>SEEEIEHKLREALERGETLNILGFEVRDEEDFKWFLHIARELI</td>\n",
       "    </tr>\n",
       "    <tr>\n",
       "      <th>5614</th>\n",
       "      <td>HEEH_TK_rd5_5996.pdb</td>\n",
       "      <td>GREEWEEILRHAIKNNQHFKVFGLEVTDEEAARRTADWLKKFE</td>\n",
       "    </tr>\n",
       "    <tr>\n",
       "      <th>5615</th>\n",
       "      <td>HEEH_TK_rd5_5997.pdb</td>\n",
       "      <td>DEEELHRHIRHRLERGETVRLFGVEVRDEELAKELLEIIKRLR</td>\n",
       "    </tr>\n",
       "    <tr>\n",
       "      <th>5616</th>\n",
       "      <td>HEEH_TK_rd5_5998.pdb</td>\n",
       "      <td>HEEEIKKALEIARHANRSVHVAGFEIHDEEAARRALEWWKRKV</td>\n",
       "    </tr>\n",
       "    <tr>\n",
       "      <th>5617</th>\n",
       "      <td>HEEH_TK_rd5_5999.pdb</td>\n",
       "      <td>DREEIEKIIRHAIRLGESVHVAGFTVHDEEEAEKIIKELKRII</td>\n",
       "    </tr>\n",
       "  </tbody>\n",
       "</table>\n",
       "<p>5618 rows × 2 columns</p>\n",
       "</div>"
      ],
      "text/plain": [
       "                      name                                     sequence\n",
       "0     HEEH_TK_rd5_0001.pdb  SLEELLRLAEELLRNGQSIHILGIEVRREEEAEELLRLLRRLI\n",
       "1     HEEH_TK_rd5_0002.pdb  DIEELIRLLEEALRKNQSITILGFEVRHEEEFEHLLRILRELL\n",
       "2     HEEH_TK_rd5_0003.pdb  TLEELLKEAERLLREGHSLHIAGIEIRDEEELRKAFEWLRRWL\n",
       "3     HEEH_TK_rd5_0004.pdb  TEEDLLELLREALRKGEEITIAGIRVTNEEAFEELLRWLEKWI\n",
       "4     HEEH_TK_rd5_0005.pdb  TIEELLREIEDLLRKGIEFHWAGITIKTEEEARKILEHLRRLL\n",
       "...                    ...                                          ...\n",
       "5613  HEEH_TK_rd5_5995.pdb  SEEEIEHKLREALERGETLNILGFEVRDEEDFKWFLHIARELI\n",
       "5614  HEEH_TK_rd5_5996.pdb  GREEWEEILRHAIKNNQHFKVFGLEVTDEEAARRTADWLKKFE\n",
       "5615  HEEH_TK_rd5_5997.pdb  DEEELHRHIRHRLERGETVRLFGVEVRDEELAKELLEIIKRLR\n",
       "5616  HEEH_TK_rd5_5998.pdb  HEEEIKKALEIARHANRSVHVAGFEIHDEEAARRALEWWKRKV\n",
       "5617  HEEH_TK_rd5_5999.pdb  DREEIEKIIRHAIRLGESVHVAGFTVHDEEEAEKIIKELKRII\n",
       "\n",
       "[5618 rows x 2 columns]"
      ]
     },
     "execution_count": 7,
     "metadata": {},
     "output_type": "execute_result"
    }
   ],
   "source": [
    "rd5[['name', 'sequence']]"
   ]
  },
  {
   "cell_type": "markdown",
   "metadata": {},
   "source": [
    "## pairwise analysis"
   ]
  },
  {
   "cell_type": "code",
   "execution_count": 8,
   "metadata": {},
   "outputs": [],
   "source": [
    "def df_pairwise(df):\n",
    "    ''' return df with all pariwise sequences and their design names '''\n",
    "    seq_pairs_list = list(itertools.combinations(df['sequence'], 2))\n",
    "    names_pairs_list = list(itertools.combinations(df['name'], 2))\n",
    "    \n",
    "    new_df1 = pd.DataFrame(names_pairs_list, columns = ['design1' ,'design2'])\n",
    "    new_df2 = pd.DataFrame(seq_pairs_list, columns = ['seq1' ,'seq2'])\n",
    "    combine_df = pd.concat([new_df1, new_df2], axis=1)\n",
    "    return combine_df\n",
    "    "
   ]
  },
  {
   "cell_type": "code",
   "execution_count": 9,
   "metadata": {},
   "outputs": [],
   "source": [
    "rd5_pairs=df_pairwise(df=rd5)\n",
    "rd6_pairs=df_pairwise(df=rd6)"
   ]
  },
  {
   "cell_type": "code",
   "execution_count": 10,
   "metadata": {},
   "outputs": [
    {
     "data": {
      "text/html": [
       "<div>\n",
       "<style scoped>\n",
       "    .dataframe tbody tr th:only-of-type {\n",
       "        vertical-align: middle;\n",
       "    }\n",
       "\n",
       "    .dataframe tbody tr th {\n",
       "        vertical-align: top;\n",
       "    }\n",
       "\n",
       "    .dataframe thead th {\n",
       "        text-align: right;\n",
       "    }\n",
       "</style>\n",
       "<table border=\"1\" class=\"dataframe\">\n",
       "  <thead>\n",
       "    <tr style=\"text-align: right;\">\n",
       "      <th></th>\n",
       "      <th>design1</th>\n",
       "      <th>design2</th>\n",
       "      <th>seq1</th>\n",
       "      <th>seq2</th>\n",
       "    </tr>\n",
       "  </thead>\n",
       "  <tbody>\n",
       "    <tr>\n",
       "      <th>0</th>\n",
       "      <td>HEEH_TK_rd5_0001.pdb</td>\n",
       "      <td>HEEH_TK_rd5_0002.pdb</td>\n",
       "      <td>SLEELLRLAEELLRNGQSIHILGIEVRREEEAEELLRLLRRLI</td>\n",
       "      <td>DIEELIRLLEEALRKNQSITILGFEVRHEEEFEHLLRILRELL</td>\n",
       "    </tr>\n",
       "    <tr>\n",
       "      <th>1</th>\n",
       "      <td>HEEH_TK_rd5_0001.pdb</td>\n",
       "      <td>HEEH_TK_rd5_0003.pdb</td>\n",
       "      <td>SLEELLRLAEELLRNGQSIHILGIEVRREEEAEELLRLLRRLI</td>\n",
       "      <td>TLEELLKEAERLLREGHSLHIAGIEIRDEEELRKAFEWLRRWL</td>\n",
       "    </tr>\n",
       "    <tr>\n",
       "      <th>2</th>\n",
       "      <td>HEEH_TK_rd5_0001.pdb</td>\n",
       "      <td>HEEH_TK_rd5_0004.pdb</td>\n",
       "      <td>SLEELLRLAEELLRNGQSIHILGIEVRREEEAEELLRLLRRLI</td>\n",
       "      <td>TEEDLLELLREALRKGEEITIAGIRVTNEEAFEELLRWLEKWI</td>\n",
       "    </tr>\n",
       "    <tr>\n",
       "      <th>3</th>\n",
       "      <td>HEEH_TK_rd5_0001.pdb</td>\n",
       "      <td>HEEH_TK_rd5_0005.pdb</td>\n",
       "      <td>SLEELLRLAEELLRNGQSIHILGIEVRREEEAEELLRLLRRLI</td>\n",
       "      <td>TIEELLREIEDLLRKGIEFHWAGITIKTEEEARKILEHLRRLL</td>\n",
       "    </tr>\n",
       "    <tr>\n",
       "      <th>4</th>\n",
       "      <td>HEEH_TK_rd5_0001.pdb</td>\n",
       "      <td>HEEH_TK_rd5_0006.pdb</td>\n",
       "      <td>SLEELLRLAEELLRNGQSIHILGIEVRREEEAEELLRLLRRLI</td>\n",
       "      <td>SFEELLRLLEEAWRKGTTIEILGFRVRDREEAEELLRWLRRWI</td>\n",
       "    </tr>\n",
       "    <tr>\n",
       "      <th>...</th>\n",
       "      <td>...</td>\n",
       "      <td>...</td>\n",
       "      <td>...</td>\n",
       "      <td>...</td>\n",
       "    </tr>\n",
       "    <tr>\n",
       "      <th>15778148</th>\n",
       "      <td>HEEH_TK_rd5_5996.pdb</td>\n",
       "      <td>HEEH_TK_rd5_5998.pdb</td>\n",
       "      <td>GREEWEEILRHAIKNNQHFKVFGLEVTDEEAARRTADWLKKFE</td>\n",
       "      <td>HEEEIKKALEIARHANRSVHVAGFEIHDEEAARRALEWWKRKV</td>\n",
       "    </tr>\n",
       "    <tr>\n",
       "      <th>15778149</th>\n",
       "      <td>HEEH_TK_rd5_5996.pdb</td>\n",
       "      <td>HEEH_TK_rd5_5999.pdb</td>\n",
       "      <td>GREEWEEILRHAIKNNQHFKVFGLEVTDEEAARRTADWLKKFE</td>\n",
       "      <td>DREEIEKIIRHAIRLGESVHVAGFTVHDEEEAEKIIKELKRII</td>\n",
       "    </tr>\n",
       "    <tr>\n",
       "      <th>15778150</th>\n",
       "      <td>HEEH_TK_rd5_5997.pdb</td>\n",
       "      <td>HEEH_TK_rd5_5998.pdb</td>\n",
       "      <td>DEEELHRHIRHRLERGETVRLFGVEVRDEELAKELLEIIKRLR</td>\n",
       "      <td>HEEEIKKALEIARHANRSVHVAGFEIHDEEAARRALEWWKRKV</td>\n",
       "    </tr>\n",
       "    <tr>\n",
       "      <th>15778151</th>\n",
       "      <td>HEEH_TK_rd5_5997.pdb</td>\n",
       "      <td>HEEH_TK_rd5_5999.pdb</td>\n",
       "      <td>DEEELHRHIRHRLERGETVRLFGVEVRDEELAKELLEIIKRLR</td>\n",
       "      <td>DREEIEKIIRHAIRLGESVHVAGFTVHDEEEAEKIIKELKRII</td>\n",
       "    </tr>\n",
       "    <tr>\n",
       "      <th>15778152</th>\n",
       "      <td>HEEH_TK_rd5_5998.pdb</td>\n",
       "      <td>HEEH_TK_rd5_5999.pdb</td>\n",
       "      <td>HEEEIKKALEIARHANRSVHVAGFEIHDEEAARRALEWWKRKV</td>\n",
       "      <td>DREEIEKIIRHAIRLGESVHVAGFTVHDEEEAEKIIKELKRII</td>\n",
       "    </tr>\n",
       "  </tbody>\n",
       "</table>\n",
       "<p>15778153 rows × 4 columns</p>\n",
       "</div>"
      ],
      "text/plain": [
       "                       design1               design2  \\\n",
       "0         HEEH_TK_rd5_0001.pdb  HEEH_TK_rd5_0002.pdb   \n",
       "1         HEEH_TK_rd5_0001.pdb  HEEH_TK_rd5_0003.pdb   \n",
       "2         HEEH_TK_rd5_0001.pdb  HEEH_TK_rd5_0004.pdb   \n",
       "3         HEEH_TK_rd5_0001.pdb  HEEH_TK_rd5_0005.pdb   \n",
       "4         HEEH_TK_rd5_0001.pdb  HEEH_TK_rd5_0006.pdb   \n",
       "...                        ...                   ...   \n",
       "15778148  HEEH_TK_rd5_5996.pdb  HEEH_TK_rd5_5998.pdb   \n",
       "15778149  HEEH_TK_rd5_5996.pdb  HEEH_TK_rd5_5999.pdb   \n",
       "15778150  HEEH_TK_rd5_5997.pdb  HEEH_TK_rd5_5998.pdb   \n",
       "15778151  HEEH_TK_rd5_5997.pdb  HEEH_TK_rd5_5999.pdb   \n",
       "15778152  HEEH_TK_rd5_5998.pdb  HEEH_TK_rd5_5999.pdb   \n",
       "\n",
       "                                                 seq1  \\\n",
       "0         SLEELLRLAEELLRNGQSIHILGIEVRREEEAEELLRLLRRLI   \n",
       "1         SLEELLRLAEELLRNGQSIHILGIEVRREEEAEELLRLLRRLI   \n",
       "2         SLEELLRLAEELLRNGQSIHILGIEVRREEEAEELLRLLRRLI   \n",
       "3         SLEELLRLAEELLRNGQSIHILGIEVRREEEAEELLRLLRRLI   \n",
       "4         SLEELLRLAEELLRNGQSIHILGIEVRREEEAEELLRLLRRLI   \n",
       "...                                               ...   \n",
       "15778148  GREEWEEILRHAIKNNQHFKVFGLEVTDEEAARRTADWLKKFE   \n",
       "15778149  GREEWEEILRHAIKNNQHFKVFGLEVTDEEAARRTADWLKKFE   \n",
       "15778150  DEEELHRHIRHRLERGETVRLFGVEVRDEELAKELLEIIKRLR   \n",
       "15778151  DEEELHRHIRHRLERGETVRLFGVEVRDEELAKELLEIIKRLR   \n",
       "15778152  HEEEIKKALEIARHANRSVHVAGFEIHDEEAARRALEWWKRKV   \n",
       "\n",
       "                                                 seq2  \n",
       "0         DIEELIRLLEEALRKNQSITILGFEVRHEEEFEHLLRILRELL  \n",
       "1         TLEELLKEAERLLREGHSLHIAGIEIRDEEELRKAFEWLRRWL  \n",
       "2         TEEDLLELLREALRKGEEITIAGIRVTNEEAFEELLRWLEKWI  \n",
       "3         TIEELLREIEDLLRKGIEFHWAGITIKTEEEARKILEHLRRLL  \n",
       "4         SFEELLRLLEEAWRKGTTIEILGFRVRDREEAEELLRWLRRWI  \n",
       "...                                               ...  \n",
       "15778148  HEEEIKKALEIARHANRSVHVAGFEIHDEEAARRALEWWKRKV  \n",
       "15778149  DREEIEKIIRHAIRLGESVHVAGFTVHDEEEAEKIIKELKRII  \n",
       "15778150  HEEEIKKALEIARHANRSVHVAGFEIHDEEAARRALEWWKRKV  \n",
       "15778151  DREEIEKIIRHAIRLGESVHVAGFTVHDEEEAEKIIKELKRII  \n",
       "15778152  DREEIEKIIRHAIRLGESVHVAGFTVHDEEEAEKIIKELKRII  \n",
       "\n",
       "[15778153 rows x 4 columns]"
      ]
     },
     "execution_count": 10,
     "metadata": {},
     "output_type": "execute_result"
    }
   ],
   "source": [
    "rd5_pairs"
   ]
  },
  {
   "cell_type": "code",
   "execution_count": 144,
   "metadata": {},
   "outputs": [],
   "source": [
    "### test\n",
    "#rd5_pairs_subset = rd5_pairs.iloc[:10]"
   ]
  },
  {
   "cell_type": "code",
   "execution_count": 11,
   "metadata": {},
   "outputs": [],
   "source": [
    "def pairwise_identity(df):\n",
    "    ''' calculate sequence identity for all pairs, returns a list of all identities '''\n",
    "    seq1 = df['seq1']\n",
    "    seq2 = df['seq2']\n",
    "    all_identities = []\n",
    "    \n",
    "    for one, two in zip(seq1, seq2):\n",
    "        pairwise_identity = (SequenceMatcher(a=one, b=two))\n",
    "        all_identities.append(pairwise_identity.ratio())\n",
    "    return(all_identities)"
   ]
  },
  {
   "cell_type": "code",
   "execution_count": 12,
   "metadata": {},
   "outputs": [],
   "source": [
    "rd5_pairwise_identities = pairwise_identity(df=rd5_pairs)\n",
    "rd6_pairwise_identities = pairwise_identity(df=rd6_pairs)"
   ]
  },
  {
   "cell_type": "code",
   "execution_count": 13,
   "metadata": {},
   "outputs": [],
   "source": [
    "# add pairwise identity ratios to the pairs df\n",
    "rd5_pairs['identity_ratio'] = rd5_pairwise_identities\n",
    "rd6_pairs['identity_ratio'] = rd6_pairwise_identities"
   ]
  },
  {
   "cell_type": "code",
   "execution_count": 44,
   "metadata": {},
   "outputs": [
    {
     "data": {
      "text/html": [
       "<div>\n",
       "<style scoped>\n",
       "    .dataframe tbody tr th:only-of-type {\n",
       "        vertical-align: middle;\n",
       "    }\n",
       "\n",
       "    .dataframe tbody tr th {\n",
       "        vertical-align: top;\n",
       "    }\n",
       "\n",
       "    .dataframe thead th {\n",
       "        text-align: right;\n",
       "    }\n",
       "</style>\n",
       "<table border=\"1\" class=\"dataframe\">\n",
       "  <thead>\n",
       "    <tr style=\"text-align: right;\">\n",
       "      <th></th>\n",
       "      <th>design1</th>\n",
       "      <th>design2</th>\n",
       "      <th>seq1</th>\n",
       "      <th>seq2</th>\n",
       "      <th>identity_ratio</th>\n",
       "    </tr>\n",
       "  </thead>\n",
       "  <tbody>\n",
       "    <tr>\n",
       "      <th>0</th>\n",
       "      <td>HEEH_KT_rd6_0001</td>\n",
       "      <td>HEEH_KT_rd6_0002</td>\n",
       "      <td>DFEEVRKILEEAKRKNTSVKIGDIEVHSEEEAKELLKRELEKI</td>\n",
       "      <td>SAEEEEKALREALERNVSYRLGDKTVTEEELWRRALEWIKKVV</td>\n",
       "      <td>0.279070</td>\n",
       "    </tr>\n",
       "    <tr>\n",
       "      <th>1</th>\n",
       "      <td>HEEH_KT_rd6_0001</td>\n",
       "      <td>HEEH_KT_rd6_0003</td>\n",
       "      <td>DFEEVRKILEEAKRKNTSVKIGDIEVHSEEEAKELLKRELEKI</td>\n",
       "      <td>TIEEIEHEIREAIERRTSIINGDLTANREEEFKRLIEWARHVD</td>\n",
       "      <td>0.395349</td>\n",
       "    </tr>\n",
       "    <tr>\n",
       "      <th>2</th>\n",
       "      <td>HEEH_KT_rd6_0001</td>\n",
       "      <td>HEEH_KT_rd6_0004</td>\n",
       "      <td>DFEEVRKILEEAKRKNTSVKIGDIEVHSEEEAKELLKRELEKI</td>\n",
       "      <td>TEEEIKRLLIELAERREEHKDGDIIIKDEEAAKRALEELERRK</td>\n",
       "      <td>0.232558</td>\n",
       "    </tr>\n",
       "    <tr>\n",
       "      <th>3</th>\n",
       "      <td>HEEH_KT_rd6_0001</td>\n",
       "      <td>HEEH_KT_rd6_0005</td>\n",
       "      <td>DFEEVRKILEEAKRKNTSVKIGDIEVHSEEEAKELLKRELEKI</td>\n",
       "      <td>SEEEAKRLIEEARRRGTILELGDVRFTDEHAEEKWREILKRLK</td>\n",
       "      <td>0.302326</td>\n",
       "    </tr>\n",
       "    <tr>\n",
       "      <th>4</th>\n",
       "      <td>HEEH_KT_rd6_0001</td>\n",
       "      <td>HEEH_KT_rd6_0006</td>\n",
       "      <td>DFEEVRKILEEAKRKNTSVKIGDIEVHSEEEAKELLKRELEKI</td>\n",
       "      <td>SEEEEKKRLEEAARKGLEVLIGHLIAHDEKELRELLEWKRKHG</td>\n",
       "      <td>0.255814</td>\n",
       "    </tr>\n",
       "    <tr>\n",
       "      <th>...</th>\n",
       "      <td>...</td>\n",
       "      <td>...</td>\n",
       "      <td>...</td>\n",
       "      <td>...</td>\n",
       "      <td>...</td>\n",
       "    </tr>\n",
       "    <tr>\n",
       "      <th>7942100</th>\n",
       "      <td>HEEH_KT_rd6_7412</td>\n",
       "      <td>HEEH_KT_rd6_7415</td>\n",
       "      <td>AEWAWEFTREALRRGITTVEIAGLEVRITSEEAARHVIELWLR</td>\n",
       "      <td>TEEEEEILHHVRRRNLTIFRAWGTTVRATSEEAALHAWQWWWR</td>\n",
       "      <td>0.348837</td>\n",
       "    </tr>\n",
       "    <tr>\n",
       "      <th>7942101</th>\n",
       "      <td>HEEH_KT_rd6_7412</td>\n",
       "      <td>HEEH_KT_rd6_7416</td>\n",
       "      <td>AEWAWEFTREALRRGITTVEIAGLEVRITSEEAARHVIELWLR</td>\n",
       "      <td>DEEQAEYLWHLVRRGVERVRVLGRIFRITSEEAEREIEEIIRR</td>\n",
       "      <td>0.488372</td>\n",
       "    </tr>\n",
       "    <tr>\n",
       "      <th>7942102</th>\n",
       "      <td>HEEH_KT_rd6_7413</td>\n",
       "      <td>HEEH_KT_rd6_7415</td>\n",
       "      <td>DEFIEHLIRHLFRRGIERGRVAGIEIHATGEELWWERLHRIER</td>\n",
       "      <td>TEEEEEILHHVRRRNLTIFRAWGTTVRATSEEAALHAWQWWWR</td>\n",
       "      <td>0.348837</td>\n",
       "    </tr>\n",
       "    <tr>\n",
       "      <th>7942103</th>\n",
       "      <td>HEEH_KT_rd6_7413</td>\n",
       "      <td>HEEH_KT_rd6_7416</td>\n",
       "      <td>DEFIEHLIRHLFRRGIERGRVAGIEIHATGEELWWERLHRIER</td>\n",
       "      <td>DEEQAEYLWHLVRRGVERVRVLGRIFRITSEEAEREIEEIIRR</td>\n",
       "      <td>0.325581</td>\n",
       "    </tr>\n",
       "    <tr>\n",
       "      <th>7942104</th>\n",
       "      <td>HEEH_KT_rd6_7415</td>\n",
       "      <td>HEEH_KT_rd6_7416</td>\n",
       "      <td>TEEEEEILHHVRRRNLTIFRAWGTTVRATSEEAALHAWQWWWR</td>\n",
       "      <td>DEEQAEYLWHLVRRGVERVRVLGRIFRITSEEAEREIEEIIRR</td>\n",
       "      <td>0.441860</td>\n",
       "    </tr>\n",
       "  </tbody>\n",
       "</table>\n",
       "<p>7942105 rows × 5 columns</p>\n",
       "</div>"
      ],
      "text/plain": [
       "                  design1           design2  \\\n",
       "0        HEEH_KT_rd6_0001  HEEH_KT_rd6_0002   \n",
       "1        HEEH_KT_rd6_0001  HEEH_KT_rd6_0003   \n",
       "2        HEEH_KT_rd6_0001  HEEH_KT_rd6_0004   \n",
       "3        HEEH_KT_rd6_0001  HEEH_KT_rd6_0005   \n",
       "4        HEEH_KT_rd6_0001  HEEH_KT_rd6_0006   \n",
       "...                   ...               ...   \n",
       "7942100  HEEH_KT_rd6_7412  HEEH_KT_rd6_7415   \n",
       "7942101  HEEH_KT_rd6_7412  HEEH_KT_rd6_7416   \n",
       "7942102  HEEH_KT_rd6_7413  HEEH_KT_rd6_7415   \n",
       "7942103  HEEH_KT_rd6_7413  HEEH_KT_rd6_7416   \n",
       "7942104  HEEH_KT_rd6_7415  HEEH_KT_rd6_7416   \n",
       "\n",
       "                                                seq1  \\\n",
       "0        DFEEVRKILEEAKRKNTSVKIGDIEVHSEEEAKELLKRELEKI   \n",
       "1        DFEEVRKILEEAKRKNTSVKIGDIEVHSEEEAKELLKRELEKI   \n",
       "2        DFEEVRKILEEAKRKNTSVKIGDIEVHSEEEAKELLKRELEKI   \n",
       "3        DFEEVRKILEEAKRKNTSVKIGDIEVHSEEEAKELLKRELEKI   \n",
       "4        DFEEVRKILEEAKRKNTSVKIGDIEVHSEEEAKELLKRELEKI   \n",
       "...                                              ...   \n",
       "7942100  AEWAWEFTREALRRGITTVEIAGLEVRITSEEAARHVIELWLR   \n",
       "7942101  AEWAWEFTREALRRGITTVEIAGLEVRITSEEAARHVIELWLR   \n",
       "7942102  DEFIEHLIRHLFRRGIERGRVAGIEIHATGEELWWERLHRIER   \n",
       "7942103  DEFIEHLIRHLFRRGIERGRVAGIEIHATGEELWWERLHRIER   \n",
       "7942104  TEEEEEILHHVRRRNLTIFRAWGTTVRATSEEAALHAWQWWWR   \n",
       "\n",
       "                                                seq2  identity_ratio  \n",
       "0        SAEEEEKALREALERNVSYRLGDKTVTEEELWRRALEWIKKVV        0.279070  \n",
       "1        TIEEIEHEIREAIERRTSIINGDLTANREEEFKRLIEWARHVD        0.395349  \n",
       "2        TEEEIKRLLIELAERREEHKDGDIIIKDEEAAKRALEELERRK        0.232558  \n",
       "3        SEEEAKRLIEEARRRGTILELGDVRFTDEHAEEKWREILKRLK        0.302326  \n",
       "4        SEEEEKKRLEEAARKGLEVLIGHLIAHDEKELRELLEWKRKHG        0.255814  \n",
       "...                                              ...             ...  \n",
       "7942100  TEEEEEILHHVRRRNLTIFRAWGTTVRATSEEAALHAWQWWWR        0.348837  \n",
       "7942101  DEEQAEYLWHLVRRGVERVRVLGRIFRITSEEAEREIEEIIRR        0.488372  \n",
       "7942102  TEEEEEILHHVRRRNLTIFRAWGTTVRATSEEAALHAWQWWWR        0.348837  \n",
       "7942103  DEEQAEYLWHLVRRGVERVRVLGRIFRITSEEAEREIEEIIRR        0.325581  \n",
       "7942104  DEEQAEYLWHLVRRGVERVRVLGRIFRITSEEAEREIEEIIRR        0.441860  \n",
       "\n",
       "[7942105 rows x 5 columns]"
      ]
     },
     "execution_count": 44,
     "metadata": {},
     "output_type": "execute_result"
    }
   ],
   "source": [
    "lenrd6_pairs"
   ]
  },
  {
   "cell_type": "code",
   "execution_count": null,
   "metadata": {},
   "outputs": [],
   "source": []
  },
  {
   "cell_type": "code",
   "execution_count": 54,
   "metadata": {
    "scrolled": true
   },
   "outputs": [
    {
     "data": {
      "text/plain": [
       "'/Volumes/GoogleDrive/My Drive/01_HEEH_design/code'"
      ]
     },
     "execution_count": 54,
     "metadata": {},
     "output_type": "execute_result"
    }
   ],
   "source": [
    "pwd"
   ]
  },
  {
   "cell_type": "code",
   "execution_count": 80,
   "metadata": {},
   "outputs": [
    {
     "data": {
      "image/png": "[encoded data removed]",
      "text/plain": [
       "<Figure size 432x288 with 1 Axes>"
      ]
     },
     "metadata": {
      "needs_background": "light"
     },
     "output_type": "display_data"
    }
   ],
   "source": [
    "sns.histplot(rd5_pairs['identity_ratio'], binwidth=0.05)\n",
    "plt.xticks([0, 0.2, 0.4, 0.6, 0.8, 1])\n",
    "plt.yticks([])\n",
    "plt.savefig('../figures/rd5all_med_seq_id.svg')"
   ]
  },
  {
   "cell_type": "code",
   "execution_count": 81,
   "metadata": {},
   "outputs": [
    {
     "data": {
      "image/png": "[encoded data removed]",
      "text/plain": [
       "<Figure size 432x288 with 1 Axes>"
      ]
     },
     "metadata": {
      "needs_background": "light"
     },
     "output_type": "display_data"
    }
   ],
   "source": [
    "sns.histplot(rd6_pairs['identity_ratio'], binwidth=0.05)\n",
    "plt.xticks([0, 0.2, 0.4, 0.6, 0.8, 1])\n",
    "plt.yticks([])\n",
    "plt.savefig('../figures/rd6all_med_seq_id.svg')"
   ]
  },
  {
   "cell_type": "code",
   "execution_count": 18,
   "metadata": {},
   "outputs": [
    {
     "data": {
      "text/plain": [
       "(0.3488372093023256, 0.27906976744186046)"
      ]
     },
     "execution_count": 18,
     "metadata": {},
     "output_type": "execute_result"
    }
   ],
   "source": [
    "# find median for all rd5 or rd6 pairs\n",
    "np.median(rd5_pairs['identity_ratio']), np.median(rd6_pairs['identity_ratio'])"
   ]
  },
  {
   "cell_type": "code",
   "execution_count": 19,
   "metadata": {},
   "outputs": [],
   "source": [
    "\n",
    "def stable_pairs(df, stable_df):\n",
    "    ''' subset the pairs df to only stable designs '''\n",
    "    merge_df = pd.merge(left=df, right=stable_df, left_on='design1', right_on='name', how='inner')\n",
    "    merge_df2 = pd.merge(left=merge_df, right=stable_df, left_on='design2', right_on='name', how='inner')\n",
    "    return merge_df2"
   ]
  },
  {
   "cell_type": "code",
   "execution_count": 20,
   "metadata": {},
   "outputs": [],
   "source": [
    "rd5_stable_pairs=stable_pairs(df=rd5_pairs, stable_df=rd5_stable[['name', 'cat']])\n",
    "rd6_stable_pairs=stable_pairs(df=rd6_pairs, stable_df=rd6_stable[['name', 'cat']])"
   ]
  },
  {
   "cell_type": "code",
   "execution_count": 21,
   "metadata": {},
   "outputs": [
    {
     "data": {
      "text/html": [
       "<div>\n",
       "<style scoped>\n",
       "    .dataframe tbody tr th:only-of-type {\n",
       "        vertical-align: middle;\n",
       "    }\n",
       "\n",
       "    .dataframe tbody tr th {\n",
       "        vertical-align: top;\n",
       "    }\n",
       "\n",
       "    .dataframe thead th {\n",
       "        text-align: right;\n",
       "    }\n",
       "</style>\n",
       "<table border=\"1\" class=\"dataframe\">\n",
       "  <thead>\n",
       "    <tr style=\"text-align: right;\">\n",
       "      <th></th>\n",
       "      <th>design1</th>\n",
       "      <th>design2</th>\n",
       "      <th>seq1</th>\n",
       "      <th>seq2</th>\n",
       "      <th>identity_ratio</th>\n",
       "      <th>name_x</th>\n",
       "      <th>cat_x</th>\n",
       "      <th>name_y</th>\n",
       "      <th>cat_y</th>\n",
       "    </tr>\n",
       "  </thead>\n",
       "  <tbody>\n",
       "    <tr>\n",
       "      <th>0</th>\n",
       "      <td>HEEH_TK_rd5_0001.pdb</td>\n",
       "      <td>HEEH_TK_rd5_0002.pdb</td>\n",
       "      <td>SLEELLRLAEELLRNGQSIHILGIEVRREEEAEELLRLLRRLI</td>\n",
       "      <td>DIEELIRLLEEALRKNQSITILGFEVRHEEEFEHLLRILRELL</td>\n",
       "      <td>0.232558</td>\n",
       "      <td>HEEH_TK_rd5_0001.pdb</td>\n",
       "      <td>design</td>\n",
       "      <td>HEEH_TK_rd5_0002.pdb</td>\n",
       "      <td>design</td>\n",
       "    </tr>\n",
       "    <tr>\n",
       "      <th>1</th>\n",
       "      <td>HEEH_TK_rd5_0001.pdb</td>\n",
       "      <td>HEEH_TK_rd5_0003.pdb</td>\n",
       "      <td>SLEELLRLAEELLRNGQSIHILGIEVRREEEAEELLRLLRRLI</td>\n",
       "      <td>TLEELLKEAERLLREGHSLHIAGIEIRDEEELRKAFEWLRRWL</td>\n",
       "      <td>0.325581</td>\n",
       "      <td>HEEH_TK_rd5_0001.pdb</td>\n",
       "      <td>design</td>\n",
       "      <td>HEEH_TK_rd5_0003.pdb</td>\n",
       "      <td>design</td>\n",
       "    </tr>\n",
       "    <tr>\n",
       "      <th>2</th>\n",
       "      <td>HEEH_TK_rd5_0002.pdb</td>\n",
       "      <td>HEEH_TK_rd5_0003.pdb</td>\n",
       "      <td>DIEELIRLLEEALRKNQSITILGFEVRHEEEFEHLLRILRELL</td>\n",
       "      <td>TLEELLKEAERLLREGHSLHIAGIEIRDEEELRKAFEWLRRWL</td>\n",
       "      <td>0.372093</td>\n",
       "      <td>HEEH_TK_rd5_0002.pdb</td>\n",
       "      <td>design</td>\n",
       "      <td>HEEH_TK_rd5_0003.pdb</td>\n",
       "      <td>design</td>\n",
       "    </tr>\n",
       "    <tr>\n",
       "      <th>3</th>\n",
       "      <td>HEEH_TK_rd5_0001.pdb</td>\n",
       "      <td>HEEH_TK_rd5_0004.pdb</td>\n",
       "      <td>SLEELLRLAEELLRNGQSIHILGIEVRREEEAEELLRLLRRLI</td>\n",
       "      <td>TEEDLLELLREALRKGEEITIAGIRVTNEEAFEELLRWLEKWI</td>\n",
       "      <td>0.209302</td>\n",
       "      <td>HEEH_TK_rd5_0001.pdb</td>\n",
       "      <td>design</td>\n",
       "      <td>HEEH_TK_rd5_0004.pdb</td>\n",
       "      <td>design</td>\n",
       "    </tr>\n",
       "    <tr>\n",
       "      <th>4</th>\n",
       "      <td>HEEH_TK_rd5_0002.pdb</td>\n",
       "      <td>HEEH_TK_rd5_0004.pdb</td>\n",
       "      <td>DIEELIRLLEEALRKNQSITILGFEVRHEEEFEHLLRILRELL</td>\n",
       "      <td>TEEDLLELLREALRKGEEITIAGIRVTNEEAFEELLRWLEKWI</td>\n",
       "      <td>0.488372</td>\n",
       "      <td>HEEH_TK_rd5_0002.pdb</td>\n",
       "      <td>design</td>\n",
       "      <td>HEEH_TK_rd5_0004.pdb</td>\n",
       "      <td>design</td>\n",
       "    </tr>\n",
       "    <tr>\n",
       "      <th>...</th>\n",
       "      <td>...</td>\n",
       "      <td>...</td>\n",
       "      <td>...</td>\n",
       "      <td>...</td>\n",
       "      <td>...</td>\n",
       "      <td>...</td>\n",
       "      <td>...</td>\n",
       "      <td>...</td>\n",
       "      <td>...</td>\n",
       "    </tr>\n",
       "    <tr>\n",
       "      <th>2284448</th>\n",
       "      <td>HEEH_TK_rd5_5970.pdb</td>\n",
       "      <td>HEEH_TK_rd5_5991.pdb</td>\n",
       "      <td>HLEEIIRKAEELLKRGEDIHIAGIRITDEEALKRAAEWLKRHI</td>\n",
       "      <td>DEEDFKRWLEHALKRGQDIHLFGWTIKSEDEARKILEWLKRFV</td>\n",
       "      <td>0.465116</td>\n",
       "      <td>HEEH_TK_rd5_5970.pdb</td>\n",
       "      <td>design</td>\n",
       "      <td>HEEH_TK_rd5_5991.pdb</td>\n",
       "      <td>design</td>\n",
       "    </tr>\n",
       "    <tr>\n",
       "      <th>2284449</th>\n",
       "      <td>HEEH_TK_rd5_5975.pdb</td>\n",
       "      <td>HEEH_TK_rd5_5991.pdb</td>\n",
       "      <td>DLEEIKRIIDEALEKGEDITIAGIRITTEEEAKKAKEWFEREI</td>\n",
       "      <td>DEEDFKRWLEHALKRGQDIHLFGWTIKSEDEARKILEWLKRFV</td>\n",
       "      <td>0.302326</td>\n",
       "      <td>HEEH_TK_rd5_5975.pdb</td>\n",
       "      <td>design</td>\n",
       "      <td>HEEH_TK_rd5_5991.pdb</td>\n",
       "      <td>design</td>\n",
       "    </tr>\n",
       "    <tr>\n",
       "      <th>2284450</th>\n",
       "      <td>HEEH_TK_rd5_5976.pdb</td>\n",
       "      <td>HEEH_TK_rd5_5991.pdb</td>\n",
       "      <td>HLREIEEEIKEALKRNETFHFAGIEVRSEEDLERFIRILEKRI</td>\n",
       "      <td>DEEDFKRWLEHALKRGQDIHLFGWTIKSEDEARKILEWLKRFV</td>\n",
       "      <td>0.418605</td>\n",
       "      <td>HEEH_TK_rd5_5976.pdb</td>\n",
       "      <td>design</td>\n",
       "      <td>HEEH_TK_rd5_5991.pdb</td>\n",
       "      <td>design</td>\n",
       "    </tr>\n",
       "    <tr>\n",
       "      <th>2284451</th>\n",
       "      <td>HEEH_TK_rd5_5977.pdb</td>\n",
       "      <td>HEEH_TK_rd5_5991.pdb</td>\n",
       "      <td>TLEEIEKIAKEALKRGETVRIAGFEVRDEEEARKLLEWFRRLF</td>\n",
       "      <td>DEEDFKRWLEHALKRGQDIHLFGWTIKSEDEARKILEWLKRFV</td>\n",
       "      <td>0.395349</td>\n",
       "      <td>HEEH_TK_rd5_5977.pdb</td>\n",
       "      <td>design</td>\n",
       "      <td>HEEH_TK_rd5_5991.pdb</td>\n",
       "      <td>design</td>\n",
       "    </tr>\n",
       "    <tr>\n",
       "      <th>2284452</th>\n",
       "      <td>HEEH_TK_rd5_5983.pdb</td>\n",
       "      <td>HEEH_TK_rd5_5991.pdb</td>\n",
       "      <td>DWEELAKKIEEAIRNGRSFHWAHIEVHTEEEARRVIEEIRRRI</td>\n",
       "      <td>DEEDFKRWLEHALKRGQDIHLFGWTIKSEDEARKILEWLKRFV</td>\n",
       "      <td>0.302326</td>\n",
       "      <td>HEEH_TK_rd5_5983.pdb</td>\n",
       "      <td>design</td>\n",
       "      <td>HEEH_TK_rd5_5991.pdb</td>\n",
       "      <td>design</td>\n",
       "    </tr>\n",
       "  </tbody>\n",
       "</table>\n",
       "<p>2284453 rows × 9 columns</p>\n",
       "</div>"
      ],
      "text/plain": [
       "                      design1               design2  \\\n",
       "0        HEEH_TK_rd5_0001.pdb  HEEH_TK_rd5_0002.pdb   \n",
       "1        HEEH_TK_rd5_0001.pdb  HEEH_TK_rd5_0003.pdb   \n",
       "2        HEEH_TK_rd5_0002.pdb  HEEH_TK_rd5_0003.pdb   \n",
       "3        HEEH_TK_rd5_0001.pdb  HEEH_TK_rd5_0004.pdb   \n",
       "4        HEEH_TK_rd5_0002.pdb  HEEH_TK_rd5_0004.pdb   \n",
       "...                       ...                   ...   \n",
       "2284448  HEEH_TK_rd5_5970.pdb  HEEH_TK_rd5_5991.pdb   \n",
       "2284449  HEEH_TK_rd5_5975.pdb  HEEH_TK_rd5_5991.pdb   \n",
       "2284450  HEEH_TK_rd5_5976.pdb  HEEH_TK_rd5_5991.pdb   \n",
       "2284451  HEEH_TK_rd5_5977.pdb  HEEH_TK_rd5_5991.pdb   \n",
       "2284452  HEEH_TK_rd5_5983.pdb  HEEH_TK_rd5_5991.pdb   \n",
       "\n",
       "                                                seq1  \\\n",
       "0        SLEELLRLAEELLRNGQSIHILGIEVRREEEAEELLRLLRRLI   \n",
       "1        SLEELLRLAEELLRNGQSIHILGIEVRREEEAEELLRLLRRLI   \n",
       "2        DIEELIRLLEEALRKNQSITILGFEVRHEEEFEHLLRILRELL   \n",
       "3        SLEELLRLAEELLRNGQSIHILGIEVRREEEAEELLRLLRRLI   \n",
       "4        DIEELIRLLEEALRKNQSITILGFEVRHEEEFEHLLRILRELL   \n",
       "...                                              ...   \n",
       "2284448  HLEEIIRKAEELLKRGEDIHIAGIRITDEEALKRAAEWLKRHI   \n",
       "2284449  DLEEIKRIIDEALEKGEDITIAGIRITTEEEAKKAKEWFEREI   \n",
       "2284450  HLREIEEEIKEALKRNETFHFAGIEVRSEEDLERFIRILEKRI   \n",
       "2284451  TLEEIEKIAKEALKRGETVRIAGFEVRDEEEARKLLEWFRRLF   \n",
       "2284452  DWEELAKKIEEAIRNGRSFHWAHIEVHTEEEARRVIEEIRRRI   \n",
       "\n",
       "                                                seq2  identity_ratio  \\\n",
       "0        DIEELIRLLEEALRKNQSITILGFEVRHEEEFEHLLRILRELL        0.232558   \n",
       "1        TLEELLKEAERLLREGHSLHIAGIEIRDEEELRKAFEWLRRWL        0.325581   \n",
       "2        TLEELLKEAERLLREGHSLHIAGIEIRDEEELRKAFEWLRRWL        0.372093   \n",
       "3        TEEDLLELLREALRKGEEITIAGIRVTNEEAFEELLRWLEKWI        0.209302   \n",
       "4        TEEDLLELLREALRKGEEITIAGIRVTNEEAFEELLRWLEKWI        0.488372   \n",
       "...                                              ...             ...   \n",
       "2284448  DEEDFKRWLEHALKRGQDIHLFGWTIKSEDEARKILEWLKRFV        0.465116   \n",
       "2284449  DEEDFKRWLEHALKRGQDIHLFGWTIKSEDEARKILEWLKRFV        0.302326   \n",
       "2284450  DEEDFKRWLEHALKRGQDIHLFGWTIKSEDEARKILEWLKRFV        0.418605   \n",
       "2284451  DEEDFKRWLEHALKRGQDIHLFGWTIKSEDEARKILEWLKRFV        0.395349   \n",
       "2284452  DEEDFKRWLEHALKRGQDIHLFGWTIKSEDEARKILEWLKRFV        0.302326   \n",
       "\n",
       "                       name_x   cat_x                name_y   cat_y  \n",
       "0        HEEH_TK_rd5_0001.pdb  design  HEEH_TK_rd5_0002.pdb  design  \n",
       "1        HEEH_TK_rd5_0001.pdb  design  HEEH_TK_rd5_0003.pdb  design  \n",
       "2        HEEH_TK_rd5_0002.pdb  design  HEEH_TK_rd5_0003.pdb  design  \n",
       "3        HEEH_TK_rd5_0001.pdb  design  HEEH_TK_rd5_0004.pdb  design  \n",
       "4        HEEH_TK_rd5_0002.pdb  design  HEEH_TK_rd5_0004.pdb  design  \n",
       "...                       ...     ...                   ...     ...  \n",
       "2284448  HEEH_TK_rd5_5970.pdb  design  HEEH_TK_rd5_5991.pdb  design  \n",
       "2284449  HEEH_TK_rd5_5975.pdb  design  HEEH_TK_rd5_5991.pdb  design  \n",
       "2284450  HEEH_TK_rd5_5976.pdb  design  HEEH_TK_rd5_5991.pdb  design  \n",
       "2284451  HEEH_TK_rd5_5977.pdb  design  HEEH_TK_rd5_5991.pdb  design  \n",
       "2284452  HEEH_TK_rd5_5983.pdb  design  HEEH_TK_rd5_5991.pdb  design  \n",
       "\n",
       "[2284453 rows x 9 columns]"
      ]
     },
     "execution_count": 21,
     "metadata": {},
     "output_type": "execute_result"
    }
   ],
   "source": [
    "rd5_stable_pairs"
   ]
  },
  {
   "cell_type": "code",
   "execution_count": 82,
   "metadata": {},
   "outputs": [
    {
     "data": {
      "image/png": "[encoded data removed]",
      "text/plain": [
       "<Figure size 432x288 with 1 Axes>"
      ]
     },
     "metadata": {
      "needs_background": "light"
     },
     "output_type": "display_data"
    }
   ],
   "source": [
    "sns.histplot(rd5_stable_pairs['identity_ratio'], binwidth=0.05)\n",
    "plt.xticks([0, 0.2, 0.4, 0.6, 0.8, 1])\n",
    "plt.yticks([])\n",
    "plt.savefig('../figures/rd5stable_med_seq_id.svg')"
   ]
  },
  {
   "cell_type": "code",
   "execution_count": 83,
   "metadata": {},
   "outputs": [
    {
     "data": {
      "image/png": "[encoded data removed]",
      "text/plain": [
       "<Figure size 432x288 with 1 Axes>"
      ]
     },
     "metadata": {
      "needs_background": "light"
     },
     "output_type": "display_data"
    }
   ],
   "source": [
    "sns.histplot(rd6_stable_pairs['identity_ratio'], binwidth=0.05)\n",
    "plt.xticks([0, 0.2, 0.4, 0.6, 0.8, 1])\n",
    "plt.yticks([])\n",
    "plt.savefig('../figures/rd6stable_med_seq_id.svg')"
   ]
  },
  {
   "cell_type": "code",
   "execution_count": 22,
   "metadata": {},
   "outputs": [
    {
     "data": {
      "text/plain": [
       "(0.37209302325581395, 0.3023255813953488)"
      ]
     },
     "execution_count": 22,
     "metadata": {},
     "output_type": "execute_result"
    }
   ],
   "source": [
    "# find median for all stable rd5 or rd6 pairs\n",
    "np.median(rd5_stable_pairs['identity_ratio']), np.median(rd6_stable_pairs['identity_ratio'])  "
   ]
  },
  {
   "cell_type": "markdown",
   "metadata": {},
   "source": [
    "## pairwise analysis for hphob residues"
   ]
  },
  {
   "cell_type": "code",
   "execution_count": 23,
   "metadata": {},
   "outputs": [],
   "source": [
    "rd5_hphob = rd5[['name', 'sequence', 'stabilityscore']]\n",
    "rd6_hphob = rd6[['name', 'sequence', 'stabilityscore']]"
   ]
  },
  {
   "cell_type": "code",
   "execution_count": 24,
   "metadata": {},
   "outputs": [],
   "source": [
    "def edit_sequence_list(df):\n",
    "    ''' edit aa sequence by putting X for all non-hphob residues'''\n",
    "    seq_hphob = []\n",
    "\n",
    "    for seq in df['sequence']:\n",
    "        edited_seq = ''\n",
    "        for res in seq:\n",
    "            if res in 'AFILMWVY':\n",
    "                edited_seq += res\n",
    "            else:\n",
    "                edited_seq += 'X'\n",
    "        seq_hphob.append(edited_seq)\n",
    "    df['edit_seq'] = seq_hphob\n",
    "    return df"
   ]
  },
  {
   "cell_type": "code",
   "execution_count": 25,
   "metadata": {},
   "outputs": [
    {
     "name": "stderr",
     "output_type": "stream",
     "text": [
      "/var/folders/35/r7mlztxx5bj0x1y0f49pww80cq0ykg/T/ipykernel_16204/2787245059.py:13: SettingWithCopyWarning: \n",
      "A value is trying to be set on a copy of a slice from a DataFrame.\n",
      "Try using .loc[row_indexer,col_indexer] = value instead\n",
      "\n",
      "See the caveats in the documentation: https://pandas.pydata.org/pandas-docs/stable/user_guide/indexing.html#returning-a-view-versus-a-copy\n",
      "  df['edit_seq'] = seq_hphob\n"
     ]
    }
   ],
   "source": [
    "rd5_hphob=edit_sequence_list(df=rd5_hphob)\n",
    "rd6_hphob=edit_sequence_list(df=rd6_hphob)"
   ]
  },
  {
   "cell_type": "code",
   "execution_count": 26,
   "metadata": {},
   "outputs": [],
   "source": [
    "def df_hphob_pairwise(df):\n",
    "    ''' return df with all pariwise edited sequences and their design names '''\n",
    "    seq_pairs_list = list(itertools.combinations(df['edit_seq'], 2))\n",
    "    names_pairs_list = list(itertools.combinations(df['name'], 2))\n",
    "    \n",
    "    new_df1 = pd.DataFrame(names_pairs_list, columns = ['design1' ,'design2'])\n",
    "    new_df2 = pd.DataFrame(seq_pairs_list, columns = ['edit_seq1' ,'edit_seq2'])\n",
    "    combine_df = pd.concat([new_df1, new_df2], axis=1)\n",
    "    return combine_df"
   ]
  },
  {
   "cell_type": "code",
   "execution_count": 27,
   "metadata": {},
   "outputs": [],
   "source": [
    "rd5_pairs2=df_hphob_pairwise(df=rd5_hphob)\n",
    "rd6_pairs2=df_hphob_pairwise(df=rd6_hphob)"
   ]
  },
  {
   "cell_type": "code",
   "execution_count": 64,
   "metadata": {},
   "outputs": [
    {
     "data": {
      "text/html": [
       "<div>\n",
       "<style scoped>\n",
       "    .dataframe tbody tr th:only-of-type {\n",
       "        vertical-align: middle;\n",
       "    }\n",
       "\n",
       "    .dataframe tbody tr th {\n",
       "        vertical-align: top;\n",
       "    }\n",
       "\n",
       "    .dataframe thead th {\n",
       "        text-align: right;\n",
       "    }\n",
       "</style>\n",
       "<table border=\"1\" class=\"dataframe\">\n",
       "  <thead>\n",
       "    <tr style=\"text-align: right;\">\n",
       "      <th></th>\n",
       "      <th>design1</th>\n",
       "      <th>design2</th>\n",
       "      <th>edit_seq1</th>\n",
       "      <th>edit_seq2</th>\n",
       "      <th>edit_seq1v2</th>\n",
       "      <th>edit_seq2v2</th>\n",
       "      <th>hphob_identity_ratio</th>\n",
       "    </tr>\n",
       "  </thead>\n",
       "  <tbody>\n",
       "    <tr>\n",
       "      <th>0</th>\n",
       "      <td>HEEH_TK_rd5_0001.pdb</td>\n",
       "      <td>HEEH_TK_rd5_0002.pdb</td>\n",
       "      <td>XLXXLLXLAXXLLXXXXXIXILXIXVXXXXXAXXLLXLLXXLI</td>\n",
       "      <td>XIXXLIXLLXXALXXXXXIXILXFXVXXXXXFXXLLXILXXLL</td>\n",
       "      <td>LLLLALLIILIVALLLLLI</td>\n",
       "      <td>ILILLALIILFVFLLILLL</td>\n",
       "      <td>0.631579</td>\n",
       "    </tr>\n",
       "    <tr>\n",
       "      <th>1</th>\n",
       "      <td>HEEH_TK_rd5_0001.pdb</td>\n",
       "      <td>HEEH_TK_rd5_0003.pdb</td>\n",
       "      <td>XLXXLLXLAXXLLXXXXXIXILXIXVXXXXXAXXLLXLLXXLI</td>\n",
       "      <td>XLXXLLXXAXXLLXXXXXLXIAXIXIXXXXXLXXAFXWLXXWL</td>\n",
       "      <td>LLLLALLIILIVALLLLLI</td>\n",
       "      <td>LLLXALLLIAIILAFWLWL</td>\n",
       "      <td>0.473684</td>\n",
       "    </tr>\n",
       "    <tr>\n",
       "      <th>2</th>\n",
       "      <td>HEEH_TK_rd5_0001.pdb</td>\n",
       "      <td>HEEH_TK_rd5_0004.pdb</td>\n",
       "      <td>XLXXLLXLAXXLLXXXXXIXILXIXVXXXXXAXXLLXLLXXLI</td>\n",
       "      <td>XXXXLLXLLXXALXXXXXIXIAXIXVXXXXAFXXLLXWLXXWI</td>\n",
       "      <td>LLLLALLIILIVXALLLLLI</td>\n",
       "      <td>XLLLLALIIAIVAFLLWLWI</td>\n",
       "      <td>0.750000</td>\n",
       "    </tr>\n",
       "    <tr>\n",
       "      <th>3</th>\n",
       "      <td>HEEH_TK_rd5_0001.pdb</td>\n",
       "      <td>HEEH_TK_rd5_0005.pdb</td>\n",
       "      <td>XLXXLLXLAXXLLXXXXXIXILXIXVXXXXXAXXLLXLLXXLI</td>\n",
       "      <td>XIXXLLXXIXXLLXXXIXFXWAXIXIXXXXXAXXILXXLXXLL</td>\n",
       "      <td>LLLLALLXIILIVALLLLLI</td>\n",
       "      <td>ILLXILLIFWAIIAILXLLL</td>\n",
       "      <td>0.450000</td>\n",
       "    </tr>\n",
       "    <tr>\n",
       "      <th>4</th>\n",
       "      <td>HEEH_TK_rd5_0001.pdb</td>\n",
       "      <td>HEEH_TK_rd5_0006.pdb</td>\n",
       "      <td>XLXXLLXLAXXLLXXXXXIXILXIXVXXXXXAXXLLXLLXXLI</td>\n",
       "      <td>XFXXLLXLLXXAWXXXXXIXILXFXVXXXXXAXXLLXWLXXWI</td>\n",
       "      <td>LLLLALLIILIVALLLLLI</td>\n",
       "      <td>FLLLLAWIILFVALLWLWI</td>\n",
       "      <td>0.736842</td>\n",
       "    </tr>\n",
       "    <tr>\n",
       "      <th>...</th>\n",
       "      <td>...</td>\n",
       "      <td>...</td>\n",
       "      <td>...</td>\n",
       "      <td>...</td>\n",
       "      <td>...</td>\n",
       "      <td>...</td>\n",
       "      <td>...</td>\n",
       "    </tr>\n",
       "    <tr>\n",
       "      <th>15778148</th>\n",
       "      <td>HEEH_TK_rd5_5996.pdb</td>\n",
       "      <td>HEEH_TK_rd5_5998.pdb</td>\n",
       "      <td>XXXXWXXILXXAIXXXXXFXVFXLXVXXXXAAXXXAXWLXXFX</td>\n",
       "      <td>XXXXIXXALXIAXXAXXXVXVAXFXIXXXXAAXXALXWWXXXV</td>\n",
       "      <td>WILXAIXFVFLVAAXAWLFX</td>\n",
       "      <td>IALIAXAVVAFIAAALWWXV</td>\n",
       "      <td>0.400000</td>\n",
       "    </tr>\n",
       "    <tr>\n",
       "      <th>15778149</th>\n",
       "      <td>HEEH_TK_rd5_5996.pdb</td>\n",
       "      <td>HEEH_TK_rd5_5999.pdb</td>\n",
       "      <td>XXXXWXXILXXAIXXXXXFXVFXLXVXXXXAAXXXAXWLXXFX</td>\n",
       "      <td>XXXXIXXIIXXAIXLXXXVXVAXFXVXXXXXAXXIIXXLXXII</td>\n",
       "      <td>WILAIXFVFLVAAXAWLFX</td>\n",
       "      <td>IIIAILVVAFVXAIIXLII</td>\n",
       "      <td>0.315789</td>\n",
       "    </tr>\n",
       "    <tr>\n",
       "      <th>15778150</th>\n",
       "      <td>HEEH_TK_rd5_5997.pdb</td>\n",
       "      <td>HEEH_TK_rd5_5998.pdb</td>\n",
       "      <td>XXXXLXXXIXXXLXXXXXVXLFXVXVXXXXLAXXLLXIIXXLX</td>\n",
       "      <td>XXXXIXXALXIAXXAXXXVXVAXFXIXXXXAAXXALXWWXXXV</td>\n",
       "      <td>LXIXXLXVLFVVLALLIILX</td>\n",
       "      <td>IALIAXAVVAFIAAALWWXV</td>\n",
       "      <td>0.300000</td>\n",
       "    </tr>\n",
       "    <tr>\n",
       "      <th>15778151</th>\n",
       "      <td>HEEH_TK_rd5_5997.pdb</td>\n",
       "      <td>HEEH_TK_rd5_5999.pdb</td>\n",
       "      <td>XXXXLXXXIXXXLXXXXXVXLFXVXVXXXXLAXXLLXIIXXLX</td>\n",
       "      <td>XXXXIXXIIXXAIXLXXXVXVAXFXVXXXXXAXXIIXXLXXII</td>\n",
       "      <td>LXIXLXVLFVVLALLIILX</td>\n",
       "      <td>IIIAILVVAFVXAIIXLII</td>\n",
       "      <td>0.368421</td>\n",
       "    </tr>\n",
       "    <tr>\n",
       "      <th>15778152</th>\n",
       "      <td>HEEH_TK_rd5_5998.pdb</td>\n",
       "      <td>HEEH_TK_rd5_5999.pdb</td>\n",
       "      <td>XXXXIXXALXIAXXAXXXVXVAXFXIXXXXAAXXALXWWXXXV</td>\n",
       "      <td>XXXXIXXIIXXAIXLXXXVXVAXFXVXXXXXAXXIIXXLXXII</td>\n",
       "      <td>IALIAXAVVAFIAAALWWXV</td>\n",
       "      <td>IIIXAILVVAFVXAIIXLII</td>\n",
       "      <td>0.500000</td>\n",
       "    </tr>\n",
       "  </tbody>\n",
       "</table>\n",
       "<p>15778153 rows × 7 columns</p>\n",
       "</div>"
      ],
      "text/plain": [
       "                       design1               design2  \\\n",
       "0         HEEH_TK_rd5_0001.pdb  HEEH_TK_rd5_0002.pdb   \n",
       "1         HEEH_TK_rd5_0001.pdb  HEEH_TK_rd5_0003.pdb   \n",
       "2         HEEH_TK_rd5_0001.pdb  HEEH_TK_rd5_0004.pdb   \n",
       "3         HEEH_TK_rd5_0001.pdb  HEEH_TK_rd5_0005.pdb   \n",
       "4         HEEH_TK_rd5_0001.pdb  HEEH_TK_rd5_0006.pdb   \n",
       "...                        ...                   ...   \n",
       "15778148  HEEH_TK_rd5_5996.pdb  HEEH_TK_rd5_5998.pdb   \n",
       "15778149  HEEH_TK_rd5_5996.pdb  HEEH_TK_rd5_5999.pdb   \n",
       "15778150  HEEH_TK_rd5_5997.pdb  HEEH_TK_rd5_5998.pdb   \n",
       "15778151  HEEH_TK_rd5_5997.pdb  HEEH_TK_rd5_5999.pdb   \n",
       "15778152  HEEH_TK_rd5_5998.pdb  HEEH_TK_rd5_5999.pdb   \n",
       "\n",
       "                                            edit_seq1  \\\n",
       "0         XLXXLLXLAXXLLXXXXXIXILXIXVXXXXXAXXLLXLLXXLI   \n",
       "1         XLXXLLXLAXXLLXXXXXIXILXIXVXXXXXAXXLLXLLXXLI   \n",
       "2         XLXXLLXLAXXLLXXXXXIXILXIXVXXXXXAXXLLXLLXXLI   \n",
       "3         XLXXLLXLAXXLLXXXXXIXILXIXVXXXXXAXXLLXLLXXLI   \n",
       "4         XLXXLLXLAXXLLXXXXXIXILXIXVXXXXXAXXLLXLLXXLI   \n",
       "...                                               ...   \n",
       "15778148  XXXXWXXILXXAIXXXXXFXVFXLXVXXXXAAXXXAXWLXXFX   \n",
       "15778149  XXXXWXXILXXAIXXXXXFXVFXLXVXXXXAAXXXAXWLXXFX   \n",
       "15778150  XXXXLXXXIXXXLXXXXXVXLFXVXVXXXXLAXXLLXIIXXLX   \n",
       "15778151  XXXXLXXXIXXXLXXXXXVXLFXVXVXXXXLAXXLLXIIXXLX   \n",
       "15778152  XXXXIXXALXIAXXAXXXVXVAXFXIXXXXAAXXALXWWXXXV   \n",
       "\n",
       "                                            edit_seq2           edit_seq1v2  \\\n",
       "0         XIXXLIXLLXXALXXXXXIXILXFXVXXXXXFXXLLXILXXLL   LLLLALLIILIVALLLLLI   \n",
       "1         XLXXLLXXAXXLLXXXXXLXIAXIXIXXXXXLXXAFXWLXXWL   LLLLALLIILIVALLLLLI   \n",
       "2         XXXXLLXLLXXALXXXXXIXIAXIXVXXXXAFXXLLXWLXXWI  LLLLALLIILIVXALLLLLI   \n",
       "3         XIXXLLXXIXXLLXXXIXFXWAXIXIXXXXXAXXILXXLXXLL  LLLLALLXIILIVALLLLLI   \n",
       "4         XFXXLLXLLXXAWXXXXXIXILXFXVXXXXXAXXLLXWLXXWI   LLLLALLIILIVALLLLLI   \n",
       "...                                               ...                   ...   \n",
       "15778148  XXXXIXXALXIAXXAXXXVXVAXFXIXXXXAAXXALXWWXXXV  WILXAIXFVFLVAAXAWLFX   \n",
       "15778149  XXXXIXXIIXXAIXLXXXVXVAXFXVXXXXXAXXIIXXLXXII   WILAIXFVFLVAAXAWLFX   \n",
       "15778150  XXXXIXXALXIAXXAXXXVXVAXFXIXXXXAAXXALXWWXXXV  LXIXXLXVLFVVLALLIILX   \n",
       "15778151  XXXXIXXIIXXAIXLXXXVXVAXFXVXXXXXAXXIIXXLXXII   LXIXLXVLFVVLALLIILX   \n",
       "15778152  XXXXIXXIIXXAIXLXXXVXVAXFXVXXXXXAXXIIXXLXXII  IALIAXAVVAFIAAALWWXV   \n",
       "\n",
       "                   edit_seq2v2  hphob_identity_ratio  \n",
       "0          ILILLALIILFVFLLILLL              0.631579  \n",
       "1          LLLXALLLIAIILAFWLWL              0.473684  \n",
       "2         XLLLLALIIAIVAFLLWLWI              0.750000  \n",
       "3         ILLXILLIFWAIIAILXLLL              0.450000  \n",
       "4          FLLLLAWIILFVALLWLWI              0.736842  \n",
       "...                        ...                   ...  \n",
       "15778148  IALIAXAVVAFIAAALWWXV              0.400000  \n",
       "15778149   IIIAILVVAFVXAIIXLII              0.315789  \n",
       "15778150  IALIAXAVVAFIAAALWWXV              0.300000  \n",
       "15778151   IIIAILVVAFVXAIIXLII              0.368421  \n",
       "15778152  IIIXAILVVAFVXAIIXLII              0.500000  \n",
       "\n",
       "[15778153 rows x 7 columns]"
      ]
     },
     "execution_count": 64,
     "metadata": {},
     "output_type": "execute_result"
    }
   ],
   "source": [
    "rd5_pairs2"
   ]
  },
  {
   "cell_type": "code",
   "execution_count": 84,
   "metadata": {},
   "outputs": [
    {
     "data": {
      "image/png": "[encoded data removed]",
      "text/plain": [
       "<Figure size 432x288 with 1 Axes>"
      ]
     },
     "metadata": {
      "needs_background": "light"
     },
     "output_type": "display_data"
    }
   ],
   "source": [
    "sns.histplot(rd5_pairs2['hphob_identity_ratio'], binwidth=0.05)\n",
    "plt.xticks([0, 0.2, 0.4, 0.6, 0.8, 1])\n",
    "plt.yticks([])\n",
    "plt.savefig('../figures/rd5allhphob_med_seq_id.svg')"
   ]
  },
  {
   "cell_type": "code",
   "execution_count": 85,
   "metadata": {},
   "outputs": [
    {
     "data": {
      "image/png": "[encoded data removed]",
      "text/plain": [
       "<Figure size 432x288 with 1 Axes>"
      ]
     },
     "metadata": {
      "needs_background": "light"
     },
     "output_type": "display_data"
    }
   ],
   "source": [
    "sns.histplot(rd6_pairs2['hphob_identity_ratio'], binwidth=0.05)\n",
    "plt.xticks([0, 0.2, 0.4, 0.6, 0.8, 1])\n",
    "plt.yticks([])\n",
    "plt.savefig('../figures/rd6allhphob_med_seq_id.svg')"
   ]
  },
  {
   "cell_type": "code",
   "execution_count": 29,
   "metadata": {},
   "outputs": [],
   "source": [
    "def keep_hphob_sequence(df):\n",
    "    '''loop through all sequence pairs and keep sequences whose paired positions have hphob residue (one or both)'''\n",
    "    edit_seq1 = df['edit_seq1']\n",
    "    edit_seq2 = df['edit_seq2']\n",
    "    \n",
    "    new_edit_seq1 = []\n",
    "    new_edit_seq2 = []\n",
    "    \n",
    "    for seq1, seq2 in zip(edit_seq1, edit_seq2):\n",
    "        new_seq1 = ''\n",
    "        new_seq2 = ''\n",
    "        for res1, res2 in zip(seq1, seq2):\n",
    "            if res1 in 'AFILMWVY' or res2 in 'AFILMWVY':\n",
    "                new_seq1+=res1\n",
    "                new_seq2+=res2\n",
    "        new_edit_seq1.append(new_seq1)\n",
    "        new_edit_seq2.append(new_seq2)\n",
    "    \n",
    "    df['edit_seq1v2'] = new_edit_seq1\n",
    "    df['edit_seq2v2'] = new_edit_seq2\n",
    "    return df"
   ]
  },
  {
   "cell_type": "code",
   "execution_count": 30,
   "metadata": {},
   "outputs": [],
   "source": [
    "rd5_pairs2 = keep_hphob_sequence(df=rd5_pairs2)\n",
    "rd6_pairs2 = keep_hphob_sequence(df=rd6_pairs2)"
   ]
  },
  {
   "cell_type": "code",
   "execution_count": 31,
   "metadata": {},
   "outputs": [],
   "source": [
    "def pairwise_hphob_identity(df):\n",
    "    ''' calculate sequence identity for all pairs, returns a list of all hphbob identities '''\n",
    "    seq1 = df['edit_seq1v2']\n",
    "    seq2 = df['edit_seq2v2']\n",
    "    all_identities = []\n",
    "    \n",
    "    for one, two in zip(seq1, seq2):\n",
    "        pairwise_identity = SequenceMatcher(a=one, b=two)\n",
    "        all_identities.append(pairwise_identity.ratio())\n",
    "    df['hphob_identity_ratio'] = all_identities\n",
    "    return df"
   ]
  },
  {
   "cell_type": "code",
   "execution_count": 32,
   "metadata": {},
   "outputs": [],
   "source": [
    "rd5_pairs2=pairwise_hphob_identity(df=rd5_pairs2)\n",
    "rd6_pairs2=pairwise_hphob_identity(df=rd6_pairs2)"
   ]
  },
  {
   "cell_type": "code",
   "execution_count": null,
   "metadata": {},
   "outputs": [],
   "source": []
  },
  {
   "cell_type": "code",
   "execution_count": 33,
   "metadata": {},
   "outputs": [],
   "source": [
    "def stable_hphob_pairs(df, stable_df):\n",
    "    ''' subset the pairs df to only stable designs '''\n",
    "    merge_df = pd.merge(left=df, right=stable_df, left_on='design1', right_on='name', how='inner')\n",
    "    merge_df2 = pd.merge(left=merge_df, right=stable_df, left_on='design2', right_on='name', how='inner')\n",
    "    return merge_df2"
   ]
  },
  {
   "cell_type": "code",
   "execution_count": 34,
   "metadata": {},
   "outputs": [],
   "source": [
    "rd5_stable_hphob_pairs=stable_hphob_pairs(df=rd5_pairs2, stable_df=rd5_stable[['name', 'cat']])\n",
    "rd6_stable_hphob_pairs=stable_hphob_pairs(df=rd6_pairs2, stable_df=rd6_stable[['name', 'cat']])"
   ]
  },
  {
   "cell_type": "code",
   "execution_count": 86,
   "metadata": {},
   "outputs": [
    {
     "data": {
      "image/png": "[encoded data removed]",
      "text/plain": [
       "<Figure size 432x288 with 1 Axes>"
      ]
     },
     "metadata": {
      "needs_background": "light"
     },
     "output_type": "display_data"
    }
   ],
   "source": [
    "sns.histplot(rd5_stable_hphob_pairs['hphob_identity_ratio'], binwidth=0.05)\n",
    "plt.xticks([0, 0.2, 0.4, 0.6, 0.8, 1])\n",
    "plt.yticks([])\n",
    "plt.savefig('../figures/rd5stablehphob_med_seq_id.svg')"
   ]
  },
  {
   "cell_type": "code",
   "execution_count": 87,
   "metadata": {},
   "outputs": [
    {
     "data": {
      "image/png": "[encoded data removed]",
      "text/plain": [
       "<Figure size 432x288 with 1 Axes>"
      ]
     },
     "metadata": {
      "needs_background": "light"
     },
     "output_type": "display_data"
    }
   ],
   "source": [
    "sns.histplot(rd6_stable_hphob_pairs['hphob_identity_ratio'], binwidth=0.05)\n",
    "plt.xticks([0, 0.2, 0.4, 0.6, 0.8, 1])\n",
    "plt.yticks([])\n",
    "plt.savefig('../figures/rd6stablehphob_med_seq_id.svg')"
   ]
  },
  {
   "cell_type": "code",
   "execution_count": 35,
   "metadata": {},
   "outputs": [
    {
     "data": {
      "text/plain": [
       "(0.4117647058823529, 0.4166666666666667)"
      ]
     },
     "execution_count": 35,
     "metadata": {},
     "output_type": "execute_result"
    }
   ],
   "source": [
    "# find median for all rd5 or rd6 pairs\n",
    "np.median(rd5_pairs2['hphob_identity_ratio']), np.median(rd6_pairs2['hphob_identity_ratio'])"
   ]
  },
  {
   "cell_type": "code",
   "execution_count": 36,
   "metadata": {},
   "outputs": [
    {
     "data": {
      "text/plain": [
       "(0.42105263157894735, 0.42424242424242425)"
      ]
     },
     "execution_count": 36,
     "metadata": {},
     "output_type": "execute_result"
    }
   ],
   "source": [
    "# find median for all stable rd5 or rd6 pairs\n",
    "np.median(rd5_stable_hphob_pairs['hphob_identity_ratio']), np.median(rd6_stable_hphob_pairs['hphob_identity_ratio'])"
   ]
  },
  {
   "cell_type": "markdown",
   "metadata": {},
   "source": [
    "### plot all median pairwise identities"
   ]
  },
  {
   "cell_type": "code",
   "execution_count": 40,
   "metadata": {},
   "outputs": [
    {
     "data": {
      "text/plain": [
       "0           0.232558\n",
       "1           0.325581\n",
       "2           0.209302\n",
       "3           0.511628\n",
       "4           0.697674\n",
       "              ...   \n",
       "15778148    0.488372\n",
       "15778149    0.418605\n",
       "15778150    0.209302\n",
       "15778151    0.232558\n",
       "15778152    0.558140\n",
       "Name: identity_ratio, Length: 15778153, dtype: float64"
      ]
     },
     "execution_count": 40,
     "metadata": {},
     "output_type": "execute_result"
    }
   ],
   "source": [
    "rd5_pairs['identity_ratio']"
   ]
  },
  {
   "cell_type": "code",
   "execution_count": 37,
   "metadata": {},
   "outputs": [],
   "source": [
    "median_rd5 = np.median(rd5_pairs['identity_ratio'])\n",
    "median_rd6 = np.median(rd6_pairs['identity_ratio'])\n",
    "median_stable_rd5 = np.median(rd5_stable_pairs['identity_ratio'])\n",
    "median_stable_rd6 = np.median(rd6_stable_pairs['identity_ratio'])\n",
    "\n",
    "median_hphob_rd5 = np.median(rd5_pairs2['hphob_identity_ratio'])\n",
    "median_hphob_rd6 = np.median(rd6_pairs2['hphob_identity_ratio'])\n",
    "median_stable_hphob_rd5 = np.median(rd5_stable_hphob_pairs['hphob_identity_ratio'])\n",
    "median_stable_hphob_rd6 = np.median(rd6_stable_hphob_pairs['hphob_identity_ratio'])"
   ]
  },
  {
   "cell_type": "code",
   "execution_count": 97,
   "metadata": {},
   "outputs": [
    {
     "data": {
      "text/plain": [
       "0.42424242424242425"
      ]
     },
     "execution_count": 97,
     "metadata": {},
     "output_type": "execute_result"
    }
   ],
   "source": [
    "median_stable_hphob_rd6"
   ]
  },
  {
   "cell_type": "code",
   "execution_count": 88,
   "metadata": {},
   "outputs": [
    {
     "data": {
      "text/plain": [
       "0.4166666666666667"
      ]
     },
     "execution_count": 88,
     "metadata": {},
     "output_type": "execute_result"
    }
   ],
   "source": [
    "median_hphob_rd6"
   ]
  },
  {
   "cell_type": "code",
   "execution_count": 38,
   "metadata": {},
   "outputs": [
    {
     "data": {
      "image/png": "[encoded data removed]",
      "text/plain": [
       "<Figure size 432x288 with 1 Axes>"
      ]
     },
     "metadata": {
      "needs_background": "light"
     },
     "output_type": "display_data"
    }
   ],
   "source": [
    "sns.barplot(x=['rd5', 'rd5_stable', 'rd5_hphob', 'rd5_stable_hphob', 'rd6', 'rd6_stable', 'rd6_hphob', 'rd6_stable_hphob'],\n",
    "           y=[median_rd5, median_stable_rd5, median_hphob_rd5, median_stable_hphob_rd5, median_rd6, median_stable_rd6, \n",
    "             median_hphob_rd6, median_stable_hphob_rd6])\n",
    "plt.xticks(rotation=90)\n",
    "plt.ylabel('median pairwise identity')\n",
    "plt.savefig('median_pairwise_id.svg')"
   ]
  },
  {
   "cell_type": "code",
   "execution_count": 322,
   "metadata": {},
   "outputs": [
    {
     "data": {
      "text/plain": [
       "(15778153, 2284453, 15778153, 2284453)"
      ]
     },
     "execution_count": 322,
     "metadata": {},
     "output_type": "execute_result"
    }
   ],
   "source": [
    "len(rd5_pairs), len(rd5_stable_pairs), len(rd5_pairs2), len(rd5_stable_hphob_pairs)"
   ]
  },
  {
   "cell_type": "code",
   "execution_count": 330,
   "metadata": {},
   "outputs": [
    {
     "data": {
      "text/plain": [
       "2137"
      ]
     },
     "execution_count": 330,
     "metadata": {},
     "output_type": "execute_result"
    }
   ],
   "source": [
    "len(np.unique(rd5_stable_hphob_pairs['design1']))"
   ]
  },
  {
   "cell_type": "code",
   "execution_count": 332,
   "metadata": {},
   "outputs": [
    {
     "data": {
      "text/plain": [
       "5617"
      ]
     },
     "execution_count": 332,
     "metadata": {},
     "output_type": "execute_result"
    }
   ],
   "source": [
    "len(np.unique(rd5_pairs2['design2']))"
   ]
  },
  {
   "cell_type": "code",
   "execution_count": null,
   "metadata": {},
   "outputs": [],
   "source": []
  }
 ],
 "metadata": {
  "kernelspec": {
   "display_name": "Python 3 (ipykernel)",
   "language": "python",
   "name": "python3"
  },
  "language_info": {
   "codemirror_mode": {
    "name": "ipython",
    "version": 3
   },
   "file_extension": ".py",
   "mimetype": "text/x-python",
   "name": "python",
   "nbconvert_exporter": "python",
   "pygments_lexer": "ipython3",
   "version": "3.8.8"
  }
 },
 "nbformat": 4,
 "nbformat_minor": 4
}

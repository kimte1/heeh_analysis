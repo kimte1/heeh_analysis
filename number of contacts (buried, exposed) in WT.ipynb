{
 "cells": [
  {
   "cell_type": "code",
   "execution_count": 1,
   "id": "c7078922",
   "metadata": {},
   "outputs": [],
   "source": [
    "import numpy as np\n",
    "import pandas as pd\n",
    "import matplotlib.pyplot as plt\n",
    "import seaborn as sns\n",
    "from scipy.spatial import distance\n",
    "from math import dist\n",
    "import itertools\n",
    "import glob as glob\n",
    "import os"
   ]
  },
  {
   "cell_type": "code",
   "execution_count": 2,
   "id": "64203e09",
   "metadata": {},
   "outputs": [],
   "source": [
    "### goal: compare change in stability (due to mutation) vs. number of contacts for wt hphob residues\n"
   ]
  },
  {
   "cell_type": "code",
   "execution_count": 2,
   "id": "331525a1",
   "metadata": {},
   "outputs": [],
   "source": [
    "### chdir to where the dms pdbs are \n",
    "os.chdir('/Volumes/GoogleDrive-115723536581609915601//My Drive/01_HEEH_design/data/pdbs/rd5_dms_lowest_models')\n",
    "\n",
    "### get all filenames of dms pdbs by alphafold\n",
    "#all_dms_pdbs = glob.glob('*pdb')"
   ]
  },
  {
   "cell_type": "code",
   "execution_count": 3,
   "id": "3b813d3e",
   "metadata": {},
   "outputs": [
    {
     "data": {
      "text/plain": [
       "'/Volumes/GoogleDrive-115723536581609915601/My Drive/01_HEEH_design/data/pdbs/rd5_dms_lowest_models'"
      ]
     },
     "execution_count": 3,
     "metadata": {},
     "output_type": "execute_result"
    }
   ],
   "source": [
    "pwd"
   ]
  },
  {
   "cell_type": "code",
   "execution_count": 4,
   "id": "43c9a8f2",
   "metadata": {},
   "outputs": [],
   "source": [
    "####\n",
    "wt_files = ['HEEH_TK_rd5_0018.pdb_fasta_unrelaxed_model_1_ptm.pdb',\n",
    "            'HEEH_TK_rd5_0341.pdb_fasta_unrelaxed_model_1_ptm.pdb',\n",
    "            'HEEH_TK_rd5_0420.pdb_fasta_unrelaxed_model_1_ptm.pdb',\n",
    "            'HEEH_TK_rd5_0614.pdb_fasta_unrelaxed_model_1_ptm.pdb',\n",
    "            'HEEH_TK_rd5_0958.pdb_fasta_unrelaxed_model_1_ptm.pdb',\n",
    "            'HEEH_TK_rd5_3711.pdb_fasta_unrelaxed_model_1_ptm.pdb']"
   ]
  },
  {
   "cell_type": "markdown",
   "id": "2a243701",
   "metadata": {},
   "source": [
    "### prepare pdb filenames"
   ]
  },
  {
   "cell_type": "code",
   "execution_count": 5,
   "id": "7bb2805f",
   "metadata": {},
   "outputs": [],
   "source": [
    "#def subset_pdbs(design):\n",
    "#    ''' return list of dms pdb filenames by design name 18, 341, 420, 614, 958, or 3711 '''\n",
    "#    return [pdb for pdb in all_dms_pdbs if design in pdb]"
   ]
  },
  {
   "cell_type": "code",
   "execution_count": 6,
   "id": "f1d35c87",
   "metadata": {},
   "outputs": [],
   "source": [
    "def get_wt_filename(pdbs):\n",
    "    ''' get wt pdb file '''\n",
    "    wt = []\n",
    "    #mutants = []\n",
    "    for file in pdbs:\n",
    "        if file.split('_')[4].split('.')[0] == 'fasta': # find wt file\n",
    "            wt.append(file)\n",
    "        #else:\n",
    "    #       mutants.append(file)\n",
    "    return wt[0]#, mutants"
   ]
  },
  {
   "cell_type": "markdown",
   "id": "cd0a58b8",
   "metadata": {},
   "source": [
    "### open file, get atomic coord for b-carbon"
   ]
  },
  {
   "cell_type": "code",
   "execution_count": 7,
   "id": "79f4e6b6",
   "metadata": {},
   "outputs": [],
   "source": [
    "def wt_bcarbon(pdb):\n",
    "    ''' return df with atomic coordinates of b-carbon for wt '''\n",
    "    with open(pdb, 'r') as file:\n",
    "        data = file.read().splitlines()\n",
    "    new_data = []\n",
    "    for line in data[1:]:\n",
    "        new_data.append(line.split())\n",
    "    df = pd.DataFrame(new_data, columns=['atom', 'atom_num', 'atom_type', 'residue', 'chain', 'res_pos', 'x', 'y', 'z', 'occupancy', 'b-factor', 'atom2'])\n",
    "    df=df.dropna()\n",
    "    df['atom_num'] = df['atom_num'].astype(int)\n",
    "    df['res_pos'] = df['res_pos'].astype(int)\n",
    "    df['x'] = df['x'].astype(float)\n",
    "    df['y'] = df['y'].astype(float)\n",
    "    df['z'] = df['z'].astype(float)\n",
    "    df.drop(columns=['b-factor', 'atom2', 'occupancy', 'chain'], inplace=True)\n",
    "    df=df.query('atom_type==\"CB\"')\n",
    "    return df"
   ]
  },
  {
   "cell_type": "code",
   "execution_count": 8,
   "id": "4dcb0f3b",
   "metadata": {},
   "outputs": [],
   "source": [
    "def res_type(df):\n",
    "    ''' add column with 1-letter residue abbreviation'''\n",
    "    aa_dict = {'GLY':'G',\n",
    "               'ALA':'A',\n",
    "              'VAL':'V',\n",
    "              'LEU':'L',\n",
    "              'ILE':'I',\n",
    "              'PRO':'P',\n",
    "              'MET':'M',\n",
    "              'TRP':'W',\n",
    "              'PHE':'F',\n",
    "              'GLN':'Q',\n",
    "              'ASN':'N',\n",
    "              'TYR':'Y',\n",
    "              'SER':'S',\n",
    "              'THR':'T',\n",
    "              'HIS':'H',\n",
    "              'ARG':'R',\n",
    "              'LYS':'K',\n",
    "              'ASP':'D',\n",
    "              'GLU':'E',}\n",
    "\n",
    "    all_abbrev = []\n",
    "    for res in list(df['residue']):\n",
    "        abbrev = aa_dict[res]\n",
    "        all_abbrev.append(abbrev)\n",
    "    df['res'] = all_abbrev\n",
    "    \n",
    "#    res_id = []\n",
    "#    for res in df['res']:\n",
    "#        if res in 'AFILMWVY':\n",
    "#            res_id.append('hphob')\n",
    "#        elif res in 'QNCYST':\n",
    "#            res_id.append('polar')\n",
    "#        elif res in 'HRKDE':\n",
    "#            res_id.append('charged')\n",
    "#    df['res_type'] = res_id\n",
    "    return df"
   ]
  },
  {
   "cell_type": "code",
   "execution_count": 9,
   "id": "0b0d54ea",
   "metadata": {},
   "outputs": [
    {
     "ename": "IndentationError",
     "evalue": "unexpected indent (3797354859.py, line 2)",
     "output_type": "error",
     "traceback": [
      "\u001b[0;36m  File \u001b[0;32m\"/var/folders/35/r7mlztxx5bj0x1y0f49pww80cq0ykg/T/ipykernel_10044/3797354859.py\"\u001b[0;36m, line \u001b[0;32m2\u001b[0m\n\u001b[0;31m    ''' keep b-carbon atomic coord for hphob res'''\u001b[0m\n\u001b[0m    ^\u001b[0m\n\u001b[0;31mIndentationError\u001b[0m\u001b[0;31m:\u001b[0m unexpected indent\n"
     ]
    }
   ],
   "source": [
    "#def res_id_type(df):\n",
    "    ''' keep b-carbon atomic coord for hphob res'''\n",
    "\n",
    "    return df #df.query('res == \"A\" or res==\"F\" or res==\"I\" or res==\"L\" or res==\"M\" or res==\"W\" or res==\"V\" or res==\"Y\"') \n"
   ]
  },
  {
   "cell_type": "markdown",
   "id": "cba99bfc",
   "metadata": {},
   "source": [
    "### get pairwise distances"
   ]
  },
  {
   "cell_type": "code",
   "execution_count": 10,
   "id": "e6e7374d",
   "metadata": {},
   "outputs": [],
   "source": [
    "def pairwise_dist(df, design):\n",
    "    ''' returns data on the euclidean distance for all possible beta carbon positions in rosetta model) '''\n",
    "\n",
    "    pairwise = list(itertools.permutations(df['res_pos'], 2)) # get all pairwise position combinations\n",
    "    \n",
    "    pairs = []\n",
    "    pairwise_dist = []\n",
    "    res1_type = []\n",
    "    res2_type = []\n",
    "    \n",
    "    for pair in pairwise:\n",
    "        first_pair = pair[0]\n",
    "        second_pair = pair[1]\n",
    "        \n",
    "        res1 = df.query('res_pos==@first_pair')['res'].tolist()[0]\n",
    "        res2 = df.query('res_pos==@second_pair')['res'].tolist()[0]\n",
    "        # get coordinates\n",
    "        first_x = float(df.query('res_pos==@first_pair')['x'])\n",
    "        first_y = float(df.query('res_pos==@first_pair')['y'])\n",
    "        first_z = float(df.query('res_pos==@first_pair')['z'])\n",
    "        first_coord = np.array((first_x, first_y, first_z), dtype=float)\n",
    "        second_x = float(df.query('res_pos==@second_pair')['x'])\n",
    "        second_y = float(df.query('res_pos==@second_pair')['y'])\n",
    "        second_z = float(df.query('res_pos==@second_pair')['z'])\n",
    "        second_coord = np.array((second_x, second_y, second_z), dtype=float)\n",
    "        # calculate distance\n",
    "        distance = np.linalg.norm(first_coord-second_coord)\n",
    "        # add results to lists\n",
    "        pairs.append(pair)\n",
    "        pairwise_dist.append(distance)\n",
    "        res1_type.append(res1)\n",
    "        res2_type.append(res2)\n",
    "        \n",
    "    newdf = pd.DataFrame(pairs, columns=['pos1', 'pos2'])\n",
    "    newdf['pos_pair'] = pairs\n",
    "    newdf['dist'] = pairwise_dist\n",
    "    newdf['res1'] = res1_type\n",
    "    newdf['res2'] = res2_type\n",
    "    newdf['design'] = 'HEEH_TK_rd5_'+ design\n",
    "    return newdf\n"
   ]
  },
  {
   "cell_type": "code",
   "execution_count": 11,
   "id": "485e431a",
   "metadata": {},
   "outputs": [],
   "source": [
    "def keep_dist_close_contact(df):\n",
    "    ''' distance < 7A'''\n",
    "    return df.query('dist < 8')"
   ]
  },
  {
   "cell_type": "code",
   "execution_count": 12,
   "id": "bffd4954",
   "metadata": {},
   "outputs": [],
   "source": [
    "def n_contacts(df):\n",
    "    ''' quantify number of contacts and add it to df '''\n",
    "\n",
    "    newdf=pd.DataFrame()\n",
    "    for design in ['HEEH_TK_rd5_0018', 'HEEH_TK_rd5_0341', 'HEEH_TK_rd5_0420', 'HEEH_TK_rd5_0614',\n",
    "                   'HEEH_TK_rd5_0958', 'HEEH_TK_rd5_3711']: \n",
    "        \n",
    "        subdf=df.query('design==@design')\n",
    "        contact_counts = subdf['pos1']\n",
    "        df_contacts = contact_counts.value_counts().rename_axis('pos1').reset_index(name='n_contacts') # turn contacts freq into df\n",
    "        \n",
    "        subdf=pd.merge(left=subdf, right=df_contacts, on='pos1', how='inner')\n",
    "        \n",
    "        newdf = pd.concat([newdf, subdf])\n",
    "        \n",
    "    return newdf \n",
    "\n",
    "\n",
    "\n",
    "#def n_contacts(df):\n",
    "#    ''' adds number of contacts a residue  '''\n",
    "#    contacts = df.query('dist < 8')['pos1'] # get position whose contacts < 8A\n",
    "#    newdf = contacts.value_counts().rename_axis('pos').reset_index(name='n_contacts') # turn\n",
    "#    return newdf"
   ]
  },
  {
   "cell_type": "code",
   "execution_count": 13,
   "id": "83bb2926",
   "metadata": {},
   "outputs": [],
   "source": [
    "def final(design):\n",
    "    list_pdb_filenames = subset_pdbs(design)\n",
    "    wt_file = get_wt_filename(pdbs=list_pdb_filenames)\n",
    "    bcarbon_coord = wt_bcarbon(pdb=wt_file)\n",
    "    bcarbon_coord = res_type(df=bcarbon_coord)\n",
    "    #bcarbon_coord2 = res_id_type(df=bcarbon_coord)\n",
    "    pairwise = pairwise_dist(df=bcarbon_coord, design=design)\n",
    "    close_contacts_df = keep_dist_close_contact(df=pairwise)\n",
    "    n_contacts_df = n_contacts(df=close_contacts_df)\n",
    "    return n_contacts_df\n",
    "    #return bcarbon_coord"
   ]
  },
  {
   "cell_type": "markdown",
   "id": "55885045",
   "metadata": {},
   "source": [
    "### get df for all 6 designs with pairwise distances < 8A \n"
   ]
  },
  {
   "cell_type": "code",
   "execution_count": 14,
   "id": "26ab9f58",
   "metadata": {
    "scrolled": true
   },
   "outputs": [
    {
     "ename": "NameError",
     "evalue": "name 'subset_pdbs' is not defined",
     "output_type": "error",
     "traceback": [
      "\u001b[0;31m---------------------------------------------------------------------------\u001b[0m",
      "\u001b[0;31mNameError\u001b[0m                                 Traceback (most recent call last)",
      "\u001b[0;32m/var/folders/35/r7mlztxx5bj0x1y0f49pww80cq0ykg/T/ipykernel_10044/1956683242.py\u001b[0m in \u001b[0;36m<module>\u001b[0;34m\u001b[0m\n\u001b[1;32m      2\u001b[0m \u001b[0;34m\u001b[0m\u001b[0m\n\u001b[1;32m      3\u001b[0m \u001b[0;32mfor\u001b[0m \u001b[0mdesign\u001b[0m \u001b[0;32min\u001b[0m \u001b[0;34m[\u001b[0m\u001b[0;34m'0018'\u001b[0m\u001b[0;34m,\u001b[0m \u001b[0;34m'0341'\u001b[0m\u001b[0;34m,\u001b[0m \u001b[0;34m'0420'\u001b[0m\u001b[0;34m,\u001b[0m \u001b[0;34m'0614'\u001b[0m\u001b[0;34m,\u001b[0m \u001b[0;34m'0958'\u001b[0m\u001b[0;34m,\u001b[0m \u001b[0;34m'3711'\u001b[0m\u001b[0;34m]\u001b[0m\u001b[0;34m:\u001b[0m\u001b[0;34m\u001b[0m\u001b[0;34m\u001b[0m\u001b[0m\n\u001b[0;32m----> 4\u001b[0;31m     \u001b[0msubdf\u001b[0m \u001b[0;34m=\u001b[0m \u001b[0mfinal\u001b[0m\u001b[0;34m(\u001b[0m\u001b[0mdesign\u001b[0m\u001b[0;34m=\u001b[0m\u001b[0mdesign\u001b[0m\u001b[0;34m)\u001b[0m\u001b[0;34m\u001b[0m\u001b[0;34m\u001b[0m\u001b[0m\n\u001b[0m\u001b[1;32m      5\u001b[0m     \u001b[0mpairwise_df\u001b[0m \u001b[0;34m=\u001b[0m \u001b[0mpd\u001b[0m\u001b[0;34m.\u001b[0m\u001b[0mconcat\u001b[0m\u001b[0;34m(\u001b[0m\u001b[0;34m[\u001b[0m\u001b[0mpairwise_df\u001b[0m\u001b[0;34m,\u001b[0m \u001b[0msubdf\u001b[0m\u001b[0;34m]\u001b[0m\u001b[0;34m)\u001b[0m\u001b[0;34m\u001b[0m\u001b[0;34m\u001b[0m\u001b[0m\n\u001b[1;32m      6\u001b[0m \u001b[0;34m\u001b[0m\u001b[0m\n",
      "\u001b[0;32m/var/folders/35/r7mlztxx5bj0x1y0f49pww80cq0ykg/T/ipykernel_10044/2376716706.py\u001b[0m in \u001b[0;36mfinal\u001b[0;34m(design)\u001b[0m\n\u001b[1;32m      1\u001b[0m \u001b[0;32mdef\u001b[0m \u001b[0mfinal\u001b[0m\u001b[0;34m(\u001b[0m\u001b[0mdesign\u001b[0m\u001b[0;34m)\u001b[0m\u001b[0;34m:\u001b[0m\u001b[0;34m\u001b[0m\u001b[0;34m\u001b[0m\u001b[0m\n\u001b[0;32m----> 2\u001b[0;31m     \u001b[0mlist_pdb_filenames\u001b[0m \u001b[0;34m=\u001b[0m \u001b[0msubset_pdbs\u001b[0m\u001b[0;34m(\u001b[0m\u001b[0mdesign\u001b[0m\u001b[0;34m)\u001b[0m\u001b[0;34m\u001b[0m\u001b[0;34m\u001b[0m\u001b[0m\n\u001b[0m\u001b[1;32m      3\u001b[0m     \u001b[0mwt_file\u001b[0m \u001b[0;34m=\u001b[0m \u001b[0mget_wt_filename\u001b[0m\u001b[0;34m(\u001b[0m\u001b[0mpdbs\u001b[0m\u001b[0;34m=\u001b[0m\u001b[0mlist_pdb_filenames\u001b[0m\u001b[0;34m)\u001b[0m\u001b[0;34m\u001b[0m\u001b[0;34m\u001b[0m\u001b[0m\n\u001b[1;32m      4\u001b[0m     \u001b[0mbcarbon_coord\u001b[0m \u001b[0;34m=\u001b[0m \u001b[0mwt_bcarbon\u001b[0m\u001b[0;34m(\u001b[0m\u001b[0mpdb\u001b[0m\u001b[0;34m=\u001b[0m\u001b[0mwt_file\u001b[0m\u001b[0;34m)\u001b[0m\u001b[0;34m\u001b[0m\u001b[0;34m\u001b[0m\u001b[0m\n\u001b[1;32m      5\u001b[0m     \u001b[0mbcarbon_coord\u001b[0m \u001b[0;34m=\u001b[0m \u001b[0mres_type\u001b[0m\u001b[0;34m(\u001b[0m\u001b[0mdf\u001b[0m\u001b[0;34m=\u001b[0m\u001b[0mbcarbon_coord\u001b[0m\u001b[0;34m)\u001b[0m\u001b[0;34m\u001b[0m\u001b[0;34m\u001b[0m\u001b[0m\n",
      "\u001b[0;31mNameError\u001b[0m: name 'subset_pdbs' is not defined"
     ]
    }
   ],
   "source": [
    "pairwise_df=pd.DataFrame()\n",
    "\n",
    "for design in ['0018', '0341', '0420', '0614', '0958', '3711']:\n",
    "    subdf = final(design=design)\n",
    "    pairwise_df = pd.concat([pairwise_df, subdf])\n",
    "    "
   ]
  },
  {
   "cell_type": "code",
   "execution_count": null,
   "id": "062c17a1",
   "metadata": {},
   "outputs": [],
   "source": []
  },
  {
   "cell_type": "markdown",
   "id": "2fd1ffdd",
   "metadata": {},
   "source": [
    "### get dms stability score data"
   ]
  },
  {
   "cell_type": "code",
   "execution_count": 15,
   "id": "7f3b2481",
   "metadata": {},
   "outputs": [],
   "source": [
    "os.chdir('/Volumes/GoogleDrive-115723536581609915601/My Drive/01_HEEH_design/2022_HEEH_manuscript/Revised submission PNAS/SI Appendix/data/stability_scores/')\n",
    "\n"
   ]
  },
  {
   "cell_type": "code",
   "execution_count": 16,
   "id": "f96f909d",
   "metadata": {},
   "outputs": [
    {
     "data": {
      "text/plain": [
       "'/Volumes/GoogleDrive-115723536581609915601/My Drive/01_HEEH_design/2022_HEEH_manuscript/Revised submission PNAS/SI Appendix/data/stability_scores'"
      ]
     },
     "execution_count": 16,
     "metadata": {},
     "output_type": "execute_result"
    }
   ],
   "source": [
    "pwd"
   ]
  },
  {
   "cell_type": "code",
   "execution_count": 17,
   "id": "c4502fd5",
   "metadata": {},
   "outputs": [],
   "source": [
    "def get_dms_stability():\n",
    "    ''' output dms dataframe for wt and mutants '''\n",
    "    dms = pd.read_csv('rd5_deep_mutational_scanning_stability_scores.csv')\n",
    "    # add columns\n",
    "    dms['design'] = [ name.split('.')[0] for name in dms['name']]\n",
    "    dms['mutant'] = [ name.split('_')[-1] for name in dms['name']]\n",
    "    dms['type'] = [ 'wt' if mut[-1]=='b' else 'mut' for mut in dms['mutant']]\n",
    "    \n",
    "    wt_df = dms.query('type==\"wt\"')\n",
    "    wt_df.rename(columns={'stabilityscore':'wt_stabilityscore'}, inplace=True) # rename column\n",
    "    mut_df = dms.query('type==\"mut\"')\n",
    "    \n",
    "    mut_df['pos'] = [ int(x[1:3]) if x[2] in '1234567890'  else int(x[1]) for x in mut_df['mutant']]\n",
    "    mut_df.rename(columns={'stabilityscore':'mut_stabilityscore'}, inplace=True) # rename column\n",
    "    return wt_df[['design', 'wt_stabilityscore']], mut_df[['design', 'mutant', 'pos', 'mut_stabilityscore']]"
   ]
  },
  {
   "cell_type": "code",
   "execution_count": 18,
   "id": "92802e88",
   "metadata": {},
   "outputs": [],
   "source": [
    "#def add_wt_stability(pairwise, wt_df):\n",
    "#    ''' add wt stability score to pairwise df'''\n",
    "#    merge = pd.merge(left=pairwise, right=wt_df, on='design', how='inner')\n",
    "#    return merge"
   ]
  },
  {
   "cell_type": "code",
   "execution_count": 19,
   "id": "8032d189",
   "metadata": {},
   "outputs": [],
   "source": [
    "def add_avg_mut_stability(mut_df):\n",
    "    ''' from dms df, make newdf with pos and average mut stability score at each position '''\n",
    "    positions = np.unique(mut_df['pos'])\n",
    "    \n",
    "    merge_df = pd.DataFrame() # this df will have design, pos, avg_mut_stability\n",
    "    \n",
    "    for design in ['HEEH_TK_rd5_0018', 'HEEH_TK_rd5_0341', 'HEEH_TK_rd5_0420', 'HEEH_TK_rd5_0614',\n",
    "                   'HEEH_TK_rd5_0958', 'HEEH_TK_rd5_3711']:\n",
    "    \n",
    "        subset_df = mut_df.query('design==@design')  # subset df by design\n",
    "        avg_stability_pos = {}\n",
    "        for position in positions:\n",
    "            pos_df = subset_df.query('pos==@position') # subset design df by res position\n",
    "            avg_stability = np.mean(pos_df['mut_stabilityscore']) # average mutant stabilityscore\n",
    "            avg_stability_pos[position]=avg_stability # add avg mut stabilityscore to dict\n",
    "        \n",
    "        dict_df = pd.DataFrame(avg_stability_pos.items(), columns=['pos1', 'avg_mut_stability']) # convert dict to df\n",
    "        dict_df['design'] = design # add design name as a column\n",
    "        merge_df=pd.concat([merge_df, dict_df])\n",
    "    \n",
    "    return merge_df"
   ]
  },
  {
   "cell_type": "code",
   "execution_count": 20,
   "id": "43d70fca",
   "metadata": {},
   "outputs": [
    {
     "ename": "NameError",
     "evalue": "name 'pairwise' is not defined",
     "output_type": "error",
     "traceback": [
      "\u001b[0;31m---------------------------------------------------------------------------\u001b[0m",
      "\u001b[0;31mNameError\u001b[0m                                 Traceback (most recent call last)",
      "\u001b[0;32m/var/folders/35/r7mlztxx5bj0x1y0f49pww80cq0ykg/T/ipykernel_10044/743251359.py\u001b[0m in \u001b[0;36m<module>\u001b[0;34m\u001b[0m\n\u001b[1;32m      5\u001b[0m for design in ['HEEH_TK_rd5_0018', 'HEEH_TK_rd5_0341', 'HEEH_TK_rd5_0420', 'HEEH_TK_rd5_0614',\n\u001b[1;32m      6\u001b[0m                'HEEH_TK_rd5_0958', 'HEEH_TK_rd5_3711']: \n\u001b[0;32m----> 7\u001b[0;31m     \u001b[0msub_pairwise_df\u001b[0m \u001b[0;34m=\u001b[0m \u001b[0mpairwise\u001b[0m\u001b[0;34m.\u001b[0m\u001b[0mquery\u001b[0m\u001b[0;34m(\u001b[0m\u001b[0;34m'design==@design'\u001b[0m\u001b[0;34m)\u001b[0m \u001b[0;31m# subset df by design\u001b[0m\u001b[0;34m\u001b[0m\u001b[0;34m\u001b[0m\u001b[0m\n\u001b[0m\u001b[1;32m      8\u001b[0m     \u001b[0msub_avgmut_df\u001b[0m \u001b[0;34m=\u001b[0m \u001b[0mavg_mut\u001b[0m\u001b[0;34m.\u001b[0m\u001b[0mquery\u001b[0m\u001b[0;34m(\u001b[0m\u001b[0;34m'design==@design'\u001b[0m\u001b[0;34m)\u001b[0m \u001b[0;31m# subset avgmut df by design\u001b[0m\u001b[0;34m\u001b[0m\u001b[0;34m\u001b[0m\u001b[0m\n\u001b[1;32m      9\u001b[0m \u001b[0;34m\u001b[0m\u001b[0m\n",
      "\u001b[0;31mNameError\u001b[0m: name 'pairwise' is not defined"
     ]
    }
   ],
   "source": [
    "####def merge_pairwise_avg_mut(pairwise, avg_mut):\n",
    "    \n",
    "newdf=pd.DataFrame()\n",
    "\n",
    "for design in ['HEEH_TK_rd5_0018', 'HEEH_TK_rd5_0341', 'HEEH_TK_rd5_0420', 'HEEH_TK_rd5_0614',\n",
    "               'HEEH_TK_rd5_0958', 'HEEH_TK_rd5_3711']: \n",
    "    sub_pairwise_df = pairwise.query('design==@design') # subset df by design\n",
    "    sub_avgmut_df = avg_mut.query('design==@design') # subset avgmut df by design\n",
    "\n",
    "    merge_subdf = pd.merge(left=sub_pairwise_df, right=sub_avgmut_df[['pos1','avg_mut_stability' ]], \n",
    "                     on='pos1', how='inner') # merge\n",
    "\n",
    "    newdf=pd.concat([newdf, merge_subdf])\n",
    "newdf['avg_change_mut_stability'] = newdf['avg_mut_stability']-newdf['wt_stabilityscore']\n",
    "return newdf"
   ]
  },
  {
   "cell_type": "code",
   "execution_count": 21,
   "id": "488edcf7",
   "metadata": {},
   "outputs": [
    {
     "ename": "IndentationError",
     "evalue": "unexpected indent (2441790673.py, line 2)",
     "output_type": "error",
     "traceback": [
      "\u001b[0;36m  File \u001b[0;32m\"/var/folders/35/r7mlztxx5bj0x1y0f49pww80cq0ykg/T/ipykernel_10044/2441790673.py\"\u001b[0;36m, line \u001b[0;32m2\u001b[0m\n\u001b[0;31m    wt_df, mut_df = get_dms_stability()\u001b[0m\n\u001b[0m    ^\u001b[0m\n\u001b[0;31mIndentationError\u001b[0m\u001b[0;31m:\u001b[0m unexpected indent\n"
     ]
    }
   ],
   "source": [
    "#####def final():\n",
    "    wt_df, mut_df = get_dms_stability()\n",
    "    merge_pairwise_wt_df = add_wt_stability(pairwise=pairwise_df, wt_df=wt_df) # add wt\n",
    "    \n",
    "    avg_mut_stability = add_avg_mut_stability(mut_df=mut_df)\n",
    "    \n",
    "    merge_pairwise_wt_avgmut_df = merge_pairwise_avg_mut(pairwise=merge_pairwise_wt_df, avg_mut=avg_mut_stability)\n",
    "    \n",
    "    \n",
    "    return merge_pairwise_wt_avgmut_df"
   ]
  },
  {
   "cell_type": "code",
   "execution_count": 22,
   "id": "6e26aa1a",
   "metadata": {},
   "outputs": [],
   "source": [
    "def merge_wt_mut(wt_df, mut_df):\n",
    "    merge_df = pd.merge(left=wt_df, right=mut_df, on='design', how='outer')\n",
    "    return merge_df"
   ]
  },
  {
   "cell_type": "code",
   "execution_count": 23,
   "id": "9d9ac572",
   "metadata": {},
   "outputs": [],
   "source": [
    "def change_stability(df):\n",
    "    df['change_avg_stability'] = df['avg_mut_stability']-df['wt_stabilityscore']\n",
    "    return df"
   ]
  },
  {
   "cell_type": "markdown",
   "id": "b7ed5278",
   "metadata": {},
   "source": [
    "### get burial data"
   ]
  },
  {
   "cell_type": "code",
   "execution_count": 24,
   "id": "2ae995c2",
   "metadata": {},
   "outputs": [],
   "source": [
    "os.chdir('/Volumes/GoogleDrive-115723536581609915601/My Drive/01_HEEH_design/datasets/')\n"
   ]
  },
  {
   "cell_type": "code",
   "execution_count": 61,
   "id": "a76e4ded",
   "metadata": {},
   "outputs": [],
   "source": [
    "def get_burial_data():\n",
    "    all_files = glob.glob('*burial')\n",
    "    design_names = []\n",
    "    design_info = []\n",
    "\n",
    "    for file in all_files:\n",
    "\n",
    "        name = (str(file).split('.')[0])\n",
    "        print(name)\n",
    "\n",
    "        with open (file, 'r') as file:\n",
    "            pos_res_burial = file.readlines()\n",
    "\n",
    "\n",
    "            for line in pos_res_burial:\n",
    "\n",
    "                x = line.split('\\t')\n",
    "                pos = int(x[0])\n",
    "                res = x[1]\n",
    "                burial = float(x[2].strip('\\n'))\n",
    "\n",
    "\n",
    "                info = (pos, res, burial)\n",
    "\n",
    "                design_names.append(name)\n",
    "                design_info.append(info)\n",
    "\n",
    "       # print(design_names)\n",
    "        #print(design_info)\n",
    "\n",
    "    df = pd.DataFrame(design_info, columns=['pos1', 'residue', 'burial'])\n",
    "    df['design']=design_names\n",
    "\n",
    "    return df.sort_values(['design','pos1'], ascending=True)\n",
    "    #df.to_csv('burials.csv', index=False, header=True)"
   ]
  },
  {
   "cell_type": "code",
   "execution_count": 26,
   "id": "f585c49b",
   "metadata": {},
   "outputs": [],
   "source": [
    "def merge_burial(burial_df, merge_df):\n",
    "    df = pd.merge(left = burial_df, right = merge_df, \n",
    "                        left_on=['design', 'pos'], \n",
    "                        right_on=['design', 'pos1'],\n",
    "                        how='inner')\n",
    "    return df             "
   ]
  },
  {
   "cell_type": "code",
   "execution_count": null,
   "id": "2d7ae5df",
   "metadata": {},
   "outputs": [],
   "source": []
  },
  {
   "cell_type": "code",
   "execution_count": 62,
   "id": "1aeaeca5",
   "metadata": {},
   "outputs": [],
   "source": [
    "def final2():\n",
    "    ''' add burial df '''\n",
    "    wt_df, mut_df = get_dms_stability()\n",
    "    avg_mut_df = add_avg_mut_stability(mut_df=mut_df)\n",
    "    merge = merge_wt_mut(wt_df=wt_df, mut_df=avg_mut_df)\n",
    "    merge = change_stability(df=merge)\n",
    "    burial = get_burial_data()\n",
    "    #merge_b = merge_burial(burial_df=burial, merge_df=merge)\n",
    "    return merge, burial"
   ]
  },
  {
   "cell_type": "code",
   "execution_count": 80,
   "id": "96ad112c",
   "metadata": {},
   "outputs": [
    {
     "data": {
      "text/html": [
       "<div>\n",
       "<style scoped>\n",
       "    .dataframe tbody tr th:only-of-type {\n",
       "        vertical-align: middle;\n",
       "    }\n",
       "\n",
       "    .dataframe tbody tr th {\n",
       "        vertical-align: top;\n",
       "    }\n",
       "\n",
       "    .dataframe thead th {\n",
       "        text-align: right;\n",
       "    }\n",
       "</style>\n",
       "<table border=\"1\" class=\"dataframe\">\n",
       "  <thead>\n",
       "    <tr style=\"text-align: right;\">\n",
       "      <th></th>\n",
       "      <th>pos1</th>\n",
       "      <th>residue</th>\n",
       "      <th>burial</th>\n",
       "      <th>design</th>\n",
       "    </tr>\n",
       "  </thead>\n",
       "  <tbody>\n",
       "    <tr>\n",
       "      <th>215</th>\n",
       "      <td>1</td>\n",
       "      <td>SER</td>\n",
       "      <td>0.166321</td>\n",
       "      <td>HEEH_TK_rd5_0018</td>\n",
       "    </tr>\n",
       "    <tr>\n",
       "      <th>216</th>\n",
       "      <td>2</td>\n",
       "      <td>PHE</td>\n",
       "      <td>1.672572</td>\n",
       "      <td>HEEH_TK_rd5_0018</td>\n",
       "    </tr>\n",
       "    <tr>\n",
       "      <th>217</th>\n",
       "      <td>3</td>\n",
       "      <td>GLU</td>\n",
       "      <td>0.009306</td>\n",
       "      <td>HEEH_TK_rd5_0018</td>\n",
       "    </tr>\n",
       "    <tr>\n",
       "      <th>218</th>\n",
       "      <td>4</td>\n",
       "      <td>GLU</td>\n",
       "      <td>0.248013</td>\n",
       "      <td>HEEH_TK_rd5_0018</td>\n",
       "    </tr>\n",
       "    <tr>\n",
       "      <th>219</th>\n",
       "      <td>5</td>\n",
       "      <td>LEU</td>\n",
       "      <td>0.968794</td>\n",
       "      <td>HEEH_TK_rd5_0018</td>\n",
       "    </tr>\n",
       "    <tr>\n",
       "      <th>...</th>\n",
       "      <td>...</td>\n",
       "      <td>...</td>\n",
       "      <td>...</td>\n",
       "      <td>...</td>\n",
       "    </tr>\n",
       "    <tr>\n",
       "      <th>38</th>\n",
       "      <td>39</td>\n",
       "      <td>ALA</td>\n",
       "      <td>5.030638</td>\n",
       "      <td>HEEH_TK_rd5_3711</td>\n",
       "    </tr>\n",
       "    <tr>\n",
       "      <th>39</th>\n",
       "      <td>40</td>\n",
       "      <td>ARG</td>\n",
       "      <td>0.753280</td>\n",
       "      <td>HEEH_TK_rd5_3711</td>\n",
       "    </tr>\n",
       "    <tr>\n",
       "      <th>40</th>\n",
       "      <td>41</td>\n",
       "      <td>ARG</td>\n",
       "      <td>0.683381</td>\n",
       "      <td>HEEH_TK_rd5_3711</td>\n",
       "    </tr>\n",
       "    <tr>\n",
       "      <th>41</th>\n",
       "      <td>42</td>\n",
       "      <td>TRP</td>\n",
       "      <td>0.710205</td>\n",
       "      <td>HEEH_TK_rd5_3711</td>\n",
       "    </tr>\n",
       "    <tr>\n",
       "      <th>42</th>\n",
       "      <td>43</td>\n",
       "      <td>GLU</td>\n",
       "      <td>1.302604</td>\n",
       "      <td>HEEH_TK_rd5_3711</td>\n",
       "    </tr>\n",
       "  </tbody>\n",
       "</table>\n",
       "<p>258 rows × 4 columns</p>\n",
       "</div>"
      ],
      "text/plain": [
       "     pos1 residue    burial            design\n",
       "215     1     SER  0.166321  HEEH_TK_rd5_0018\n",
       "216     2     PHE  1.672572  HEEH_TK_rd5_0018\n",
       "217     3     GLU  0.009306  HEEH_TK_rd5_0018\n",
       "218     4     GLU  0.248013  HEEH_TK_rd5_0018\n",
       "219     5     LEU  0.968794  HEEH_TK_rd5_0018\n",
       "..    ...     ...       ...               ...\n",
       "38     39     ALA  5.030638  HEEH_TK_rd5_3711\n",
       "39     40     ARG  0.753280  HEEH_TK_rd5_3711\n",
       "40     41     ARG  0.683381  HEEH_TK_rd5_3711\n",
       "41     42     TRP  0.710205  HEEH_TK_rd5_3711\n",
       "42     43     GLU  1.302604  HEEH_TK_rd5_3711\n",
       "\n",
       "[258 rows x 4 columns]"
      ]
     },
     "execution_count": 80,
     "metadata": {},
     "output_type": "execute_result"
    }
   ],
   "source": [
    "b"
   ]
  },
  {
   "cell_type": "code",
   "execution_count": 63,
   "id": "cd4aafca",
   "metadata": {
    "scrolled": true
   },
   "outputs": [
    {
     "name": "stderr",
     "output_type": "stream",
     "text": [
      "/Users/tek317/opt/anaconda3/lib/python3.8/site-packages/pandas/core/frame.py:5039: SettingWithCopyWarning: \n",
      "A value is trying to be set on a copy of a slice from a DataFrame\n",
      "\n",
      "See the caveats in the documentation: https://pandas.pydata.org/pandas-docs/stable/user_guide/indexing.html#returning-a-view-versus-a-copy\n",
      "  return super().rename(\n",
      "/var/folders/35/r7mlztxx5bj0x1y0f49pww80cq0ykg/T/ipykernel_10044/948323010.py:13: SettingWithCopyWarning: \n",
      "A value is trying to be set on a copy of a slice from a DataFrame.\n",
      "Try using .loc[row_indexer,col_indexer] = value instead\n",
      "\n",
      "See the caveats in the documentation: https://pandas.pydata.org/pandas-docs/stable/user_guide/indexing.html#returning-a-view-versus-a-copy\n",
      "  mut_df['pos'] = [ int(x[1:3]) if x[2] in '1234567890'  else int(x[1]) for x in mut_df['mutant']]\n"
     ]
    },
    {
     "name": "stdout",
     "output_type": "stream",
     "text": [
      "HEEH_TK_rd5_3711\n",
      "HEEH_TK_rd5_0958\n",
      "HEEH_TK_rd5_0614\n",
      "HEEH_TK_rd5_0420\n",
      "HEEH_TK_rd5_0341\n",
      "HEEH_TK_rd5_0018\n"
     ]
    }
   ],
   "source": [
    "a,b=final2()"
   ]
  },
  {
   "cell_type": "code",
   "execution_count": 66,
   "id": "830e9ea0",
   "metadata": {},
   "outputs": [],
   "source": [
    "c=pd.merge(left=a.query('design==\"HEEH_TK_rd5_0958\"'), right=b.query('design==\"HEEH_TK_rd5_0958\"'), \n",
    "           on='pos1', how='inner')"
   ]
  },
  {
   "cell_type": "code",
   "execution_count": 91,
   "id": "46ec21ec",
   "metadata": {},
   "outputs": [],
   "source": [
    "c=pd.merge(left=a, right=b, \n",
    "           on='pos1', how='inner')"
   ]
  },
  {
   "cell_type": "code",
   "execution_count": 92,
   "id": "b1a4886b",
   "metadata": {},
   "outputs": [],
   "source": [
    "def res_type(df):\n",
    "    ''' add column with 1-letter residue abbreviation'''\n",
    "    aa_dict = {'GLY':'G',\n",
    "               'ALA':'A',\n",
    "              'VAL':'V',\n",
    "              'LEU':'L',\n",
    "              'ILE':'I',\n",
    "              'PRO':'P',\n",
    "              'MET':'M',\n",
    "              'TRP':'W',\n",
    "              'PHE':'F',\n",
    "              'GLN':'Q',\n",
    "              'ASN':'N',\n",
    "              'TYR':'Y',\n",
    "              'SER':'S',\n",
    "              'THR':'T',\n",
    "              'HIS':'H',\n",
    "              'ARG':'R',\n",
    "              'LYS':'K',\n",
    "              'ASP':'D',\n",
    "              'GLU':'E',}\n",
    "\n",
    "    all_abbrev = []\n",
    "    for res in list(df['residue']):\n",
    "        abbrev = aa_dict[res]\n",
    "        all_abbrev.append(abbrev)\n",
    "    df['res'] = all_abbrev\n",
    "    \n",
    "#    res_id = []\n",
    "#    for res in df['res']:\n",
    "#        if res in 'AFILMWVY':\n",
    "#            res_id.append('hphob')\n",
    "#        elif res in 'QNCYST':\n",
    "#            res_id.append('polar')\n",
    "#        elif res in 'HRKDE':\n",
    "#            res_id.append('charged')\n",
    "#    df['res_type'] = res_id\n",
    "    return df"
   ]
  },
  {
   "cell_type": "code",
   "execution_count": 93,
   "id": "db8ece8e",
   "metadata": {},
   "outputs": [],
   "source": [
    "c=res_type(df=c)"
   ]
  },
  {
   "cell_type": "code",
   "execution_count": 94,
   "id": "8835f157",
   "metadata": {
    "scrolled": true
   },
   "outputs": [
    {
     "data": {
      "text/html": [
       "<div>\n",
       "<style scoped>\n",
       "    .dataframe tbody tr th:only-of-type {\n",
       "        vertical-align: middle;\n",
       "    }\n",
       "\n",
       "    .dataframe tbody tr th {\n",
       "        vertical-align: top;\n",
       "    }\n",
       "\n",
       "    .dataframe thead th {\n",
       "        text-align: right;\n",
       "    }\n",
       "</style>\n",
       "<table border=\"1\" class=\"dataframe\">\n",
       "  <thead>\n",
       "    <tr style=\"text-align: right;\">\n",
       "      <th></th>\n",
       "      <th>design_x</th>\n",
       "      <th>wt_stabilityscore</th>\n",
       "      <th>pos1</th>\n",
       "      <th>avg_mut_stability</th>\n",
       "      <th>change_avg_stability</th>\n",
       "      <th>residue</th>\n",
       "      <th>burial</th>\n",
       "      <th>design_y</th>\n",
       "      <th>res</th>\n",
       "    </tr>\n",
       "  </thead>\n",
       "  <tbody>\n",
       "    <tr>\n",
       "      <th>0</th>\n",
       "      <td>HEEH_TK_rd5_0018</td>\n",
       "      <td>2.857318</td>\n",
       "      <td>1</td>\n",
       "      <td>2.669868</td>\n",
       "      <td>-0.187450</td>\n",
       "      <td>SER</td>\n",
       "      <td>0.166321</td>\n",
       "      <td>HEEH_TK_rd5_0018</td>\n",
       "      <td>S</td>\n",
       "    </tr>\n",
       "    <tr>\n",
       "      <th>1</th>\n",
       "      <td>HEEH_TK_rd5_0018</td>\n",
       "      <td>2.857318</td>\n",
       "      <td>1</td>\n",
       "      <td>2.669868</td>\n",
       "      <td>-0.187450</td>\n",
       "      <td>ASP</td>\n",
       "      <td>0.304882</td>\n",
       "      <td>HEEH_TK_rd5_0341</td>\n",
       "      <td>D</td>\n",
       "    </tr>\n",
       "    <tr>\n",
       "      <th>2</th>\n",
       "      <td>HEEH_TK_rd5_0018</td>\n",
       "      <td>2.857318</td>\n",
       "      <td>1</td>\n",
       "      <td>2.669868</td>\n",
       "      <td>-0.187450</td>\n",
       "      <td>SER</td>\n",
       "      <td>0.164321</td>\n",
       "      <td>HEEH_TK_rd5_0420</td>\n",
       "      <td>S</td>\n",
       "    </tr>\n",
       "    <tr>\n",
       "      <th>3</th>\n",
       "      <td>HEEH_TK_rd5_0018</td>\n",
       "      <td>2.857318</td>\n",
       "      <td>1</td>\n",
       "      <td>2.669868</td>\n",
       "      <td>-0.187450</td>\n",
       "      <td>ASP</td>\n",
       "      <td>0.464834</td>\n",
       "      <td>HEEH_TK_rd5_0614</td>\n",
       "      <td>D</td>\n",
       "    </tr>\n",
       "    <tr>\n",
       "      <th>4</th>\n",
       "      <td>HEEH_TK_rd5_0018</td>\n",
       "      <td>2.857318</td>\n",
       "      <td>1</td>\n",
       "      <td>2.669868</td>\n",
       "      <td>-0.187450</td>\n",
       "      <td>ASP</td>\n",
       "      <td>0.492239</td>\n",
       "      <td>HEEH_TK_rd5_0958</td>\n",
       "      <td>D</td>\n",
       "    </tr>\n",
       "    <tr>\n",
       "      <th>...</th>\n",
       "      <td>...</td>\n",
       "      <td>...</td>\n",
       "      <td>...</td>\n",
       "      <td>...</td>\n",
       "      <td>...</td>\n",
       "      <td>...</td>\n",
       "      <td>...</td>\n",
       "      <td>...</td>\n",
       "      <td>...</td>\n",
       "    </tr>\n",
       "    <tr>\n",
       "      <th>1543</th>\n",
       "      <td>HEEH_TK_rd5_3711</td>\n",
       "      <td>2.256550</td>\n",
       "      <td>43</td>\n",
       "      <td>2.001365</td>\n",
       "      <td>-0.255184</td>\n",
       "      <td>ILE</td>\n",
       "      <td>1.746889</td>\n",
       "      <td>HEEH_TK_rd5_0341</td>\n",
       "      <td>I</td>\n",
       "    </tr>\n",
       "    <tr>\n",
       "      <th>1544</th>\n",
       "      <td>HEEH_TK_rd5_3711</td>\n",
       "      <td>2.256550</td>\n",
       "      <td>43</td>\n",
       "      <td>2.001365</td>\n",
       "      <td>-0.255184</td>\n",
       "      <td>ILE</td>\n",
       "      <td>2.678907</td>\n",
       "      <td>HEEH_TK_rd5_0420</td>\n",
       "      <td>I</td>\n",
       "    </tr>\n",
       "    <tr>\n",
       "      <th>1545</th>\n",
       "      <td>HEEH_TK_rd5_3711</td>\n",
       "      <td>2.256550</td>\n",
       "      <td>43</td>\n",
       "      <td>2.001365</td>\n",
       "      <td>-0.255184</td>\n",
       "      <td>LEU</td>\n",
       "      <td>2.162661</td>\n",
       "      <td>HEEH_TK_rd5_0614</td>\n",
       "      <td>L</td>\n",
       "    </tr>\n",
       "    <tr>\n",
       "      <th>1546</th>\n",
       "      <td>HEEH_TK_rd5_3711</td>\n",
       "      <td>2.256550</td>\n",
       "      <td>43</td>\n",
       "      <td>2.001365</td>\n",
       "      <td>-0.255184</td>\n",
       "      <td>GLY</td>\n",
       "      <td>NaN</td>\n",
       "      <td>HEEH_TK_rd5_0958</td>\n",
       "      <td>G</td>\n",
       "    </tr>\n",
       "    <tr>\n",
       "      <th>1547</th>\n",
       "      <td>HEEH_TK_rd5_3711</td>\n",
       "      <td>2.256550</td>\n",
       "      <td>43</td>\n",
       "      <td>2.001365</td>\n",
       "      <td>-0.255184</td>\n",
       "      <td>GLU</td>\n",
       "      <td>1.302604</td>\n",
       "      <td>HEEH_TK_rd5_3711</td>\n",
       "      <td>E</td>\n",
       "    </tr>\n",
       "  </tbody>\n",
       "</table>\n",
       "<p>1548 rows × 9 columns</p>\n",
       "</div>"
      ],
      "text/plain": [
       "              design_x  wt_stabilityscore  pos1  avg_mut_stability  \\\n",
       "0     HEEH_TK_rd5_0018           2.857318     1           2.669868   \n",
       "1     HEEH_TK_rd5_0018           2.857318     1           2.669868   \n",
       "2     HEEH_TK_rd5_0018           2.857318     1           2.669868   \n",
       "3     HEEH_TK_rd5_0018           2.857318     1           2.669868   \n",
       "4     HEEH_TK_rd5_0018           2.857318     1           2.669868   \n",
       "...                ...                ...   ...                ...   \n",
       "1543  HEEH_TK_rd5_3711           2.256550    43           2.001365   \n",
       "1544  HEEH_TK_rd5_3711           2.256550    43           2.001365   \n",
       "1545  HEEH_TK_rd5_3711           2.256550    43           2.001365   \n",
       "1546  HEEH_TK_rd5_3711           2.256550    43           2.001365   \n",
       "1547  HEEH_TK_rd5_3711           2.256550    43           2.001365   \n",
       "\n",
       "      change_avg_stability residue    burial          design_y res  \n",
       "0                -0.187450     SER  0.166321  HEEH_TK_rd5_0018   S  \n",
       "1                -0.187450     ASP  0.304882  HEEH_TK_rd5_0341   D  \n",
       "2                -0.187450     SER  0.164321  HEEH_TK_rd5_0420   S  \n",
       "3                -0.187450     ASP  0.464834  HEEH_TK_rd5_0614   D  \n",
       "4                -0.187450     ASP  0.492239  HEEH_TK_rd5_0958   D  \n",
       "...                    ...     ...       ...               ...  ..  \n",
       "1543             -0.255184     ILE  1.746889  HEEH_TK_rd5_0341   I  \n",
       "1544             -0.255184     ILE  2.678907  HEEH_TK_rd5_0420   I  \n",
       "1545             -0.255184     LEU  2.162661  HEEH_TK_rd5_0614   L  \n",
       "1546             -0.255184     GLY       NaN  HEEH_TK_rd5_0958   G  \n",
       "1547             -0.255184     GLU  1.302604  HEEH_TK_rd5_3711   E  \n",
       "\n",
       "[1548 rows x 9 columns]"
      ]
     },
     "execution_count": 94,
     "metadata": {},
     "output_type": "execute_result"
    }
   ],
   "source": [
    "c"
   ]
  },
  {
   "cell_type": "code",
   "execution_count": 95,
   "id": "1b72a22b",
   "metadata": {},
   "outputs": [],
   "source": [
    "def res_abbrev(df):\n",
    "    res_id = []\n",
    "\n",
    "    for res in df['res']:\n",
    "        if res in 'AFILMWVY':\n",
    "            res_id.append('hphob')\n",
    "        elif res in 'QNCST':\n",
    "            res_id.append('polar')\n",
    "        elif res in 'HRKDE':\n",
    "            res_id.append('charged')\n",
    "        elif res =='P':\n",
    "            res_id.append('P')\n",
    "        else:\n",
    "            res_id.append('G')\n",
    "\n",
    "    df['res_type'] = res_id\n",
    "    return df"
   ]
  },
  {
   "cell_type": "code",
   "execution_count": 96,
   "id": "e6d111c8",
   "metadata": {},
   "outputs": [],
   "source": [
    "c=res_abbrev(df=c)"
   ]
  },
  {
   "cell_type": "code",
   "execution_count": 97,
   "id": "4cb96c03",
   "metadata": {},
   "outputs": [
    {
     "data": {
      "text/html": [
       "<div>\n",
       "<style scoped>\n",
       "    .dataframe tbody tr th:only-of-type {\n",
       "        vertical-align: middle;\n",
       "    }\n",
       "\n",
       "    .dataframe tbody tr th {\n",
       "        vertical-align: top;\n",
       "    }\n",
       "\n",
       "    .dataframe thead th {\n",
       "        text-align: right;\n",
       "    }\n",
       "</style>\n",
       "<table border=\"1\" class=\"dataframe\">\n",
       "  <thead>\n",
       "    <tr style=\"text-align: right;\">\n",
       "      <th></th>\n",
       "      <th>design_x</th>\n",
       "      <th>wt_stabilityscore</th>\n",
       "      <th>pos1</th>\n",
       "      <th>avg_mut_stability</th>\n",
       "      <th>change_avg_stability</th>\n",
       "      <th>residue</th>\n",
       "      <th>burial</th>\n",
       "      <th>design_y</th>\n",
       "      <th>res</th>\n",
       "      <th>res_type</th>\n",
       "    </tr>\n",
       "  </thead>\n",
       "  <tbody>\n",
       "    <tr>\n",
       "      <th>0</th>\n",
       "      <td>HEEH_TK_rd5_0018</td>\n",
       "      <td>2.857318</td>\n",
       "      <td>1</td>\n",
       "      <td>2.669868</td>\n",
       "      <td>-0.187450</td>\n",
       "      <td>SER</td>\n",
       "      <td>0.166321</td>\n",
       "      <td>HEEH_TK_rd5_0018</td>\n",
       "      <td>S</td>\n",
       "      <td>polar</td>\n",
       "    </tr>\n",
       "    <tr>\n",
       "      <th>1</th>\n",
       "      <td>HEEH_TK_rd5_0018</td>\n",
       "      <td>2.857318</td>\n",
       "      <td>1</td>\n",
       "      <td>2.669868</td>\n",
       "      <td>-0.187450</td>\n",
       "      <td>ASP</td>\n",
       "      <td>0.304882</td>\n",
       "      <td>HEEH_TK_rd5_0341</td>\n",
       "      <td>D</td>\n",
       "      <td>charged</td>\n",
       "    </tr>\n",
       "    <tr>\n",
       "      <th>2</th>\n",
       "      <td>HEEH_TK_rd5_0018</td>\n",
       "      <td>2.857318</td>\n",
       "      <td>1</td>\n",
       "      <td>2.669868</td>\n",
       "      <td>-0.187450</td>\n",
       "      <td>SER</td>\n",
       "      <td>0.164321</td>\n",
       "      <td>HEEH_TK_rd5_0420</td>\n",
       "      <td>S</td>\n",
       "      <td>polar</td>\n",
       "    </tr>\n",
       "    <tr>\n",
       "      <th>3</th>\n",
       "      <td>HEEH_TK_rd5_0018</td>\n",
       "      <td>2.857318</td>\n",
       "      <td>1</td>\n",
       "      <td>2.669868</td>\n",
       "      <td>-0.187450</td>\n",
       "      <td>ASP</td>\n",
       "      <td>0.464834</td>\n",
       "      <td>HEEH_TK_rd5_0614</td>\n",
       "      <td>D</td>\n",
       "      <td>charged</td>\n",
       "    </tr>\n",
       "    <tr>\n",
       "      <th>4</th>\n",
       "      <td>HEEH_TK_rd5_0018</td>\n",
       "      <td>2.857318</td>\n",
       "      <td>1</td>\n",
       "      <td>2.669868</td>\n",
       "      <td>-0.187450</td>\n",
       "      <td>ASP</td>\n",
       "      <td>0.492239</td>\n",
       "      <td>HEEH_TK_rd5_0958</td>\n",
       "      <td>D</td>\n",
       "      <td>charged</td>\n",
       "    </tr>\n",
       "    <tr>\n",
       "      <th>...</th>\n",
       "      <td>...</td>\n",
       "      <td>...</td>\n",
       "      <td>...</td>\n",
       "      <td>...</td>\n",
       "      <td>...</td>\n",
       "      <td>...</td>\n",
       "      <td>...</td>\n",
       "      <td>...</td>\n",
       "      <td>...</td>\n",
       "      <td>...</td>\n",
       "    </tr>\n",
       "    <tr>\n",
       "      <th>1543</th>\n",
       "      <td>HEEH_TK_rd5_3711</td>\n",
       "      <td>2.256550</td>\n",
       "      <td>43</td>\n",
       "      <td>2.001365</td>\n",
       "      <td>-0.255184</td>\n",
       "      <td>ILE</td>\n",
       "      <td>1.746889</td>\n",
       "      <td>HEEH_TK_rd5_0341</td>\n",
       "      <td>I</td>\n",
       "      <td>hphob</td>\n",
       "    </tr>\n",
       "    <tr>\n",
       "      <th>1544</th>\n",
       "      <td>HEEH_TK_rd5_3711</td>\n",
       "      <td>2.256550</td>\n",
       "      <td>43</td>\n",
       "      <td>2.001365</td>\n",
       "      <td>-0.255184</td>\n",
       "      <td>ILE</td>\n",
       "      <td>2.678907</td>\n",
       "      <td>HEEH_TK_rd5_0420</td>\n",
       "      <td>I</td>\n",
       "      <td>hphob</td>\n",
       "    </tr>\n",
       "    <tr>\n",
       "      <th>1545</th>\n",
       "      <td>HEEH_TK_rd5_3711</td>\n",
       "      <td>2.256550</td>\n",
       "      <td>43</td>\n",
       "      <td>2.001365</td>\n",
       "      <td>-0.255184</td>\n",
       "      <td>LEU</td>\n",
       "      <td>2.162661</td>\n",
       "      <td>HEEH_TK_rd5_0614</td>\n",
       "      <td>L</td>\n",
       "      <td>hphob</td>\n",
       "    </tr>\n",
       "    <tr>\n",
       "      <th>1546</th>\n",
       "      <td>HEEH_TK_rd5_3711</td>\n",
       "      <td>2.256550</td>\n",
       "      <td>43</td>\n",
       "      <td>2.001365</td>\n",
       "      <td>-0.255184</td>\n",
       "      <td>GLY</td>\n",
       "      <td>NaN</td>\n",
       "      <td>HEEH_TK_rd5_0958</td>\n",
       "      <td>G</td>\n",
       "      <td>G</td>\n",
       "    </tr>\n",
       "    <tr>\n",
       "      <th>1547</th>\n",
       "      <td>HEEH_TK_rd5_3711</td>\n",
       "      <td>2.256550</td>\n",
       "      <td>43</td>\n",
       "      <td>2.001365</td>\n",
       "      <td>-0.255184</td>\n",
       "      <td>GLU</td>\n",
       "      <td>1.302604</td>\n",
       "      <td>HEEH_TK_rd5_3711</td>\n",
       "      <td>E</td>\n",
       "      <td>charged</td>\n",
       "    </tr>\n",
       "  </tbody>\n",
       "</table>\n",
       "<p>1548 rows × 10 columns</p>\n",
       "</div>"
      ],
      "text/plain": [
       "              design_x  wt_stabilityscore  pos1  avg_mut_stability  \\\n",
       "0     HEEH_TK_rd5_0018           2.857318     1           2.669868   \n",
       "1     HEEH_TK_rd5_0018           2.857318     1           2.669868   \n",
       "2     HEEH_TK_rd5_0018           2.857318     1           2.669868   \n",
       "3     HEEH_TK_rd5_0018           2.857318     1           2.669868   \n",
       "4     HEEH_TK_rd5_0018           2.857318     1           2.669868   \n",
       "...                ...                ...   ...                ...   \n",
       "1543  HEEH_TK_rd5_3711           2.256550    43           2.001365   \n",
       "1544  HEEH_TK_rd5_3711           2.256550    43           2.001365   \n",
       "1545  HEEH_TK_rd5_3711           2.256550    43           2.001365   \n",
       "1546  HEEH_TK_rd5_3711           2.256550    43           2.001365   \n",
       "1547  HEEH_TK_rd5_3711           2.256550    43           2.001365   \n",
       "\n",
       "      change_avg_stability residue    burial          design_y res res_type  \n",
       "0                -0.187450     SER  0.166321  HEEH_TK_rd5_0018   S    polar  \n",
       "1                -0.187450     ASP  0.304882  HEEH_TK_rd5_0341   D  charged  \n",
       "2                -0.187450     SER  0.164321  HEEH_TK_rd5_0420   S    polar  \n",
       "3                -0.187450     ASP  0.464834  HEEH_TK_rd5_0614   D  charged  \n",
       "4                -0.187450     ASP  0.492239  HEEH_TK_rd5_0958   D  charged  \n",
       "...                    ...     ...       ...               ...  ..      ...  \n",
       "1543             -0.255184     ILE  1.746889  HEEH_TK_rd5_0341   I    hphob  \n",
       "1544             -0.255184     ILE  2.678907  HEEH_TK_rd5_0420   I    hphob  \n",
       "1545             -0.255184     LEU  2.162661  HEEH_TK_rd5_0614   L    hphob  \n",
       "1546             -0.255184     GLY       NaN  HEEH_TK_rd5_0958   G        G  \n",
       "1547             -0.255184     GLU  1.302604  HEEH_TK_rd5_3711   E  charged  \n",
       "\n",
       "[1548 rows x 10 columns]"
      ]
     },
     "execution_count": 97,
     "metadata": {},
     "output_type": "execute_result"
    }
   ],
   "source": [
    "c"
   ]
  },
  {
   "cell_type": "code",
   "execution_count": 98,
   "id": "f2f9749e",
   "metadata": {},
   "outputs": [],
   "source": [
    "def plot_():\n",
    "    sns.regplot(x='burial', y='change_avg_stability', data=c.query('res_type==\"hphob\"'),\n",
    "                    label='hphob', scatter_kws={'alpha':0.2}, ci=None)\n",
    "\n",
    "    sns.regplot(x='burial', y='change_avg_stability', data=c.query('res_type==\"polar\"'),\n",
    "                    color='orange', label='polar', scatter_kws={'alpha':0.2}, ci=None)\n",
    "\n",
    "    sns.regplot(x='burial', y='change_avg_stability', data=c.query('res_type==\"charged\"'),\n",
    "                    color='green', label='charged', scatter_kws={'alpha':0.2}, ci=None)\n",
    "    plt.legend()\n",
    "\n",
    "    #plt.savefig('../figures/burial.svg')\n",
    "    "
   ]
  },
  {
   "cell_type": "code",
   "execution_count": 99,
   "id": "014f41c0",
   "metadata": {},
   "outputs": [
    {
     "data": {
      "image/png": "[encoded data removed]",
      "text/plain": [
       "<Figure size 432x288 with 1 Axes>"
      ]
     },
     "metadata": {
      "needs_background": "light"
     },
     "output_type": "display_data"
    }
   ],
   "source": [
    "plot_()"
   ]
  },
  {
   "cell_type": "code",
   "execution_count": null,
   "id": "1b66aeaf",
   "metadata": {},
   "outputs": [],
   "source": [
    "plot_()"
   ]
  },
  {
   "cell_type": "code",
   "execution_count": null,
   "id": "db1f0e7d",
   "metadata": {},
   "outputs": [],
   "source": [
    "sns.regplot(x='burial', y='change_avg_stability', data=c.query('res_type==\"hphob\"'),\n",
    "                    label='hphob', scatter_kws={'alpha':0.2}, ci=None)\n",
    "plt.xticks([0,1,2,3,4,5,6])\n",
    "plt.yticks([-1.5,-1,-0.5,0,0.5])"
   ]
  },
  {
   "cell_type": "code",
   "execution_count": null,
   "id": "6fe4ed96",
   "metadata": {},
   "outputs": [],
   "source": []
  },
  {
   "cell_type": "code",
   "execution_count": null,
   "id": "6c29bc87",
   "metadata": {},
   "outputs": [],
   "source": [
    "np.corrcoef(c.query('res_type==\"hphob\"')['burial'], c.query('res_type==\"hphob\"')['change_avg_stability'])"
   ]
  },
  {
   "cell_type": "code",
   "execution_count": null,
   "id": "b4462170",
   "metadata": {},
   "outputs": [],
   "source": [
    "np.corrcoef(c.query('res_type==\"polar\"')['burial'], c.query('res_type==\"polar\"')['change_avg_stability'])"
   ]
  },
  {
   "cell_type": "code",
   "execution_count": null,
   "id": "e97cbd31",
   "metadata": {},
   "outputs": [],
   "source": [
    "np.corrcoef(c.query('res_type==\"charged\"')['burial'], c.query('res_type==\"charged\"')['change_avg_stability'])"
   ]
  },
  {
   "cell_type": "code",
   "execution_count": null,
   "id": "454623cf",
   "metadata": {},
   "outputs": [],
   "source": [
    "c.query('res_type==\"polar\"')"
   ]
  },
  {
   "cell_type": "code",
   "execution_count": null,
   "id": "38e67c37",
   "metadata": {},
   "outputs": [],
   "source": [
    "######## just hphob\n",
    "hphob=c.query('res_type==\"hphob\"')\n",
    "\n",
    "\n",
    "sizes = []\n",
    "for res in hphob['res']:\n",
    "    if res in 'FILMWVY':\n",
    "        sizes.append('large')\n",
    "    elif res in 'A':\n",
    "        sizes.append('Ala')\n",
    "    #elif res in 'HRKDE':\n",
    "    #    res_id.append('charged')\n",
    "    #else:\n",
    "    #    res_id.append('NaN')\n",
    "\n",
    "hphob['size'] = sizes\n",
    "\n",
    "\n"
   ]
  },
  {
   "cell_type": "code",
   "execution_count": null,
   "id": "7478d3fd",
   "metadata": {},
   "outputs": [],
   "source": [
    "sns.regplot(x='burial', y='change_avg_stability', color='dimgray', data=hphob.query('size==\"large\"'), \n",
    "            label='FILMWVY', scatter_kws={'alpha':0.3}, ci=None)#,  hue='res_id')\n",
    "sns.regplot(x='burial', y='change_avg_stability', color='mediumorchid', data=hphob.query('size==\"Ala\"'), \n",
    "            label='A', scatter_kws={'alpha':0.3}, ci=None)#,  hue='res_id')\n",
    "\n",
    "plt.xticks([0,1,2,3,4,5,6])\n",
    "plt.yticks([-1.5,-1,-0.5,0,0.5])\n",
    "plt.legend()\n",
    "plt.savefig('burial_hphob.svg')"
   ]
  },
  {
   "cell_type": "code",
   "execution_count": null,
   "id": "3bc633f2",
   "metadata": {},
   "outputs": [],
   "source": [
    "np.corrcoef(hphob.query('size==\"large\"')['burial'], hphob.query('size==\"large\"')['change_avg_stability'])"
   ]
  },
  {
   "cell_type": "code",
   "execution_count": null,
   "id": "6f8678ed",
   "metadata": {},
   "outputs": [],
   "source": [
    "np.corrcoef(hphob.query('size==\"Ala\"')['burial'], hphob.query('size==\"Ala\"')['change_avg_stability'])"
   ]
  },
  {
   "cell_type": "code",
   "execution_count": null,
   "id": "e7a667fc",
   "metadata": {},
   "outputs": [],
   "source": [
    "sns.distplot(c.query('res_type==\"hphob\"')['change_avg_stability'], label='hphob', hist=False)#, \n",
    "sns.distplot(c.query('res_type==\"polar\"')['change_avg_stability'], label='polar', hist=False)#, \n",
    "sns.distplot(c.query('res_type==\"charged\"')['change_avg_stability'], label='charged', hist=False)#, \n",
    "\n",
    "plt.legend()\n",
    "plt.savefig('hist_change_mut_score.svg')"
   ]
  },
  {
   "cell_type": "code",
   "execution_count": null,
   "id": "6f1d870a",
   "metadata": {},
   "outputs": [],
   "source": [
    "sns.distplot(hphob.query('size==\"large\"')['change_avg_stability'], label='FILMWVY', hist=False, color='dimgray')#, \n",
    "sns.distplot(hphob.query('size==\"Ala\"')['change_avg_stability'], label='Ala', hist=False, color='mediumorchid')#, \n",
    "#sns.distplot(c.query('res_type==\"charged\"')['change_avg_stability'], label='charged', hist=False)#, \n",
    "\n",
    "plt.legend()\n",
    "plt.savefig('hist_change_mut_scorehphob.svg')"
   ]
  },
  {
   "cell_type": "code",
   "execution_count": null,
   "id": "8c96ea17",
   "metadata": {},
   "outputs": [],
   "source": [
    "sns.distplot(c.query('res_type==\"hphob\"')['burial'], label='hphob', hist=False)#, \n",
    "sns.distplot(c.query('res_type==\"polar\"')['burial'], label='polar', hist=False)#, \n",
    "sns.distplot(c.query('res_type==\"charged\"')['burial'], label='charged', hist=False)#, \n",
    "\n",
    "           # label='hphob', scatter_kws={'alpha':0.1},)#,  hue='res_id')\n",
    "\n",
    "#sns.regplot(x='burial', y='avg_mut_stability', data=df4.query('res_type==\"charged\"'), \n",
    " #           label='charged', scatter_kws={'alpha':0.1},)#,  hue='res_id')\n",
    "\n",
    "#sns.regplot(x='burial', y='avg_mut_stability', data=df4.query('res_type==\"polar\"'), \n",
    " #           label='polar', scatter_kws={'alpha':0.1},)#,  hue='res_ida')\n",
    "plt.legend()\n",
    "plt.savefig('distplot_burial.svg')"
   ]
  },
  {
   "cell_type": "code",
   "execution_count": null,
   "id": "517335f1",
   "metadata": {},
   "outputs": [],
   "source": [
    "sns.distplot(hphob.query('size==\"large\"')['burial'], label='FILMWVY', hist=False, color='dimgrey')#, \n",
    "sns.distplot(hphob.query('size==\"Ala\"')['burial'], label='Ala', hist=False, color='mediumorchid')#, \n",
    "#sns.distplot(c.query('res_type==\"charged\"')['change_avg_stability'], label='charged', hist=False)#, \n",
    "\n",
    "plt.legend()\n",
    "plt.savefig('histplot_hphob_burial.svg')"
   ]
  },
  {
   "cell_type": "code",
   "execution_count": null,
   "id": "2236f34b",
   "metadata": {},
   "outputs": [],
   "source": []
  },
  {
   "cell_type": "code",
   "execution_count": null,
   "id": "b235799c",
   "metadata": {},
   "outputs": [],
   "source": []
  },
  {
   "cell_type": "code",
   "execution_count": null,
   "id": "5b180359",
   "metadata": {},
   "outputs": [],
   "source": []
  },
  {
   "cell_type": "code",
   "execution_count": null,
   "id": "ea7b16e8",
   "metadata": {},
   "outputs": [],
   "source": []
  },
  {
   "cell_type": "code",
   "execution_count": null,
   "id": "322b0198",
   "metadata": {},
   "outputs": [],
   "source": []
  },
  {
   "cell_type": "code",
   "execution_count": null,
   "id": "80fe1b9d",
   "metadata": {},
   "outputs": [],
   "source": []
  },
  {
   "cell_type": "code",
   "execution_count": null,
   "id": "30793eea",
   "metadata": {},
   "outputs": [],
   "source": []
  },
  {
   "cell_type": "code",
   "execution_count": null,
   "id": "39b54dfc",
   "metadata": {},
   "outputs": [],
   "source": []
  },
  {
   "cell_type": "code",
   "execution_count": null,
   "id": "5c5dd34c",
   "metadata": {},
   "outputs": [],
   "source": [
    "sns.regplot(x='n_contacts', y='avg_change_mut_stability', data=df.query('res_id==\"hphob\"'), scatter_kws={'alpha':0.1},)#,  hue='res_id')\n",
    "\n",
    "sns.regplot(x='n_contacts', y='avg_change_mut_stability', data=df.query('res_id==\"charged\"'), scatter_kws={'alpha':0.1},)#,  hue='res_id')\n",
    "\n",
    "sns.regplot(x='n_contacts', y='avg_change_mut_stability', data=df.query('res_id==\"polar\"'), scatter_kws={'alpha':0.1},)#,  hue='res_id')\n",
    "plt.legend()\n",
    "#plt.savefig('n_contacts_all_res_types.svg')\n",
    "\n"
   ]
  },
  {
   "cell_type": "code",
   "execution_count": null,
   "id": "18851165",
   "metadata": {},
   "outputs": [],
   "source": [
    "sns.regplot(x='n_contacts', y='avg_change_mut_stability', data=df.query('res_id==\"hphob\"'), scatter_kws={'alpha':0.1},)#,  hue='res_id')\n",
    "np.corrcoef(df.query('res_id==\"hphob\"')['n_contacts'], df.query('res_id==\"hphob\"')['avg_change_mut_stability'])\n"
   ]
  },
  {
   "cell_type": "code",
   "execution_count": null,
   "id": "0f1ecaf0",
   "metadata": {},
   "outputs": [],
   "source": []
  },
  {
   "cell_type": "code",
   "execution_count": null,
   "id": "3a40c0c7",
   "metadata": {},
   "outputs": [],
   "source": []
  },
  {
   "cell_type": "code",
   "execution_count": null,
   "id": "135f117d",
   "metadata": {},
   "outputs": [],
   "source": []
  },
  {
   "cell_type": "code",
   "execution_count": null,
   "id": "eed5b913",
   "metadata": {},
   "outputs": [],
   "source": []
  },
  {
   "cell_type": "code",
   "execution_count": null,
   "id": "dc81f902",
   "metadata": {},
   "outputs": [],
   "source": [
    "sns.regplot(x='n_contacts', y='avg_change_mut_stability', data=df.query('res_id==\"hphob\"'), scatter_kws={'alpha':0.1},)#,  hue='res_id')\n",
    "plt.yticks([-2, -1.5, -1, -0.5, 0, 0.5, 1])\n",
    "plt.xticks([0, 2, 4, 6, 8, 10, 12, 14])\n",
    "plt.savefig('n_contacts_hphob.svg')\n"
   ]
  },
  {
   "cell_type": "code",
   "execution_count": null,
   "id": "3549ab81",
   "metadata": {},
   "outputs": [],
   "source": [
    "sns.regplot(x='n_contacts', y='avg_change_mut_stability', data=df.query('res_id==\"polar\"'), color='orange', scatter_kws={'alpha':0.1},)#,  hue='res_id')\n",
    "plt.yticks([-2, -1.5, -1, -0.5, 0, 0.5, 1])\n",
    "plt.xticks([0, 2, 4, 6, 8, 10, 12, 14])\n",
    "#plt.savefig('n_contacts_polar.svg')  "
   ]
  },
  {
   "cell_type": "code",
   "execution_count": null,
   "id": "eeb3f790",
   "metadata": {},
   "outputs": [],
   "source": [
    "sns.regplot(x='n_contacts', y='avg_change_mut_stability', data=df.query('res_id==\"charged\"'), color='green', scatter_kws={'alpha':0.1},)#,  hue='res_id')\n",
    "plt.yticks([-2, -1.5, -1, -0.5, 0, 0.5, 1])\n",
    "plt.xticks([0, 2, 4, 6, 8, 10, 12, 14])\n",
    "plt.savefig('n_contacts_charged.svg') "
   ]
  },
  {
   "cell_type": "code",
   "execution_count": null,
   "id": "88cbcd54",
   "metadata": {},
   "outputs": [],
   "source": [
    "sns.scatterplot(x='n_contacts', y='change_avg_mut_stability', data=df,  hue='res_id')\n",
    "#plt.savefig('n_contacts.svg')\n",
    "#scatter_kws={'alpha':0.1},"
   ]
  },
  {
   "cell_type": "code",
   "execution_count": null,
   "id": "e4f76ed2",
   "metadata": {},
   "outputs": [],
   "source": []
  },
  {
   "cell_type": "code",
   "execution_count": null,
   "id": "bef4623b",
   "metadata": {},
   "outputs": [],
   "source": []
  },
  {
   "cell_type": "code",
   "execution_count": null,
   "id": "3f1c2158",
   "metadata": {},
   "outputs": [],
   "source": []
  },
  {
   "cell_type": "code",
   "execution_count": null,
   "id": "fa0b00ae",
   "metadata": {},
   "outputs": [],
   "source": []
  },
  {
   "cell_type": "code",
   "execution_count": null,
   "id": "3df0e1b0",
   "metadata": {},
   "outputs": [],
   "source": []
  },
  {
   "cell_type": "code",
   "execution_count": null,
   "id": "cc68cbd9",
   "metadata": {},
   "outputs": [],
   "source": []
  },
  {
   "cell_type": "code",
   "execution_count": null,
   "id": "69b9525c",
   "metadata": {},
   "outputs": [],
   "source": []
  },
  {
   "cell_type": "code",
   "execution_count": null,
   "id": "90215fe7",
   "metadata": {},
   "outputs": [],
   "source": []
  },
  {
   "cell_type": "code",
   "execution_count": null,
   "id": "a23ed4ff",
   "metadata": {},
   "outputs": [],
   "source": []
  },
  {
   "cell_type": "code",
   "execution_count": null,
   "id": "2995517d",
   "metadata": {},
   "outputs": [],
   "source": [
    "res_types = []\n",
    "\n",
    "for res in df['res1']:\n",
    "    if res =='A':\n",
    "        res_types.append('A')\n",
    "    if res in 'LIV':\n",
    "        res_types.append('LIV')\n",
    "    if res in 'FW':\n",
    "        res_types.append('FW')\n",
    "df['res_type'] = res_types"
   ]
  },
  {
   "cell_type": "code",
   "execution_count": null,
   "id": "fb7b28a3",
   "metadata": {},
   "outputs": [],
   "source": [
    "df.head()"
   ]
  },
  {
   "cell_type": "code",
   "execution_count": null,
   "id": "1dd825dd",
   "metadata": {},
   "outputs": [],
   "source": [
    "sns.countplot(df['res1'])"
   ]
  },
  {
   "cell_type": "code",
   "execution_count": null,
   "id": "2c2f5f55",
   "metadata": {},
   "outputs": [],
   "source": [
    "sns.scatterplot(x='n_contacts', y='change_avg_mut_stability', data=df, hue='res_type')\n",
    "plt.legend(bbox_to_anchor=(1,1), loc=\"upper left\") "
   ]
  },
  {
   "cell_type": "code",
   "execution_count": null,
   "id": "48c1f870",
   "metadata": {},
   "outputs": [],
   "source": []
  },
  {
   "cell_type": "code",
   "execution_count": null,
   "id": "54959a17",
   "metadata": {},
   "outputs": [],
   "source": [
    "df.query('n_contacts==10')"
   ]
  },
  {
   "cell_type": "code",
   "execution_count": null,
   "id": "ca0c4fe4",
   "metadata": {},
   "outputs": [],
   "source": [
    "df"
   ]
  },
  {
   "cell_type": "code",
   "execution_count": null,
   "id": "9d1dedf4",
   "metadata": {},
   "outputs": [],
   "source": [
    "sns.countplot(df.query('pos1==39')['res1'])"
   ]
  },
  {
   "cell_type": "code",
   "execution_count": null,
   "id": "40db1f01",
   "metadata": {},
   "outputs": [],
   "source": [
    "sns.scatterplot(x='n_contacts', y='change_avg_mut_stability', data=df.query('pos1==39'))\n",
    "                                                                      \n",
    "                                                                      #hue='change_avg_mut_stability', s=100)\n",
    "plt.legend(bbox_to_anchor=(1,1), loc=\"upper left\") "
   ]
  },
  {
   "cell_type": "code",
   "execution_count": null,
   "id": "efd97e2e",
   "metadata": {},
   "outputs": [],
   "source": [
    "df"
   ]
  },
  {
   "cell_type": "code",
   "execution_count": null,
   "id": "35aeedfb",
   "metadata": {},
   "outputs": [],
   "source": [
    "sns.scatterplot(x='pos1', y='res1', data=df.query('n_contacts==5'), hue='change_avg_mut_stability')\n",
    "plt.legend(bbox_to_anchor=(1,1), loc=\"upper left\") "
   ]
  },
  {
   "cell_type": "code",
   "execution_count": null,
   "id": "4662b028",
   "metadata": {},
   "outputs": [],
   "source": [
    "sns.scatterplot(x='pos1', y='res1', data=df.query('n_contacts==4'), hue='design')\n",
    "plt.legend(bbox_to_anchor=(1,1), loc=\"upper left\")"
   ]
  },
  {
   "cell_type": "code",
   "execution_count": null,
   "id": "39d6abc5",
   "metadata": {},
   "outputs": [],
   "source": [
    "sns.scatterplot(x='pos1', y='res1', data=df.query('n_contacts==4'), hue='change_avg_mut_stability')\n",
    "plt.legend(bbox_to_anchor=(1,1), loc=\"upper left\") "
   ]
  },
  {
   "cell_type": "code",
   "execution_count": null,
   "id": "a51d7561",
   "metadata": {},
   "outputs": [],
   "source": [
    "sns.scatterplot(x='n_contacts', y='change_avg_mut_stability', data=df, hue='design')\n",
    "plt.legend(bbox_to_anchor=(1,1), loc=\"upper left\") "
   ]
  },
  {
   "cell_type": "code",
   "execution_count": null,
   "id": "59353a51",
   "metadata": {},
   "outputs": [],
   "source": [
    "len(df)"
   ]
  },
  {
   "cell_type": "code",
   "execution_count": null,
   "id": "6041a219",
   "metadata": {},
   "outputs": [],
   "source": [
    "df"
   ]
  },
  {
   "cell_type": "code",
   "execution_count": null,
   "id": "cdc2f067",
   "metadata": {},
   "outputs": [],
   "source": [
    "sns.regplot(x='n_contacts', y='change_avg_mut_stability', data=df, scatter_kws={'alpha':0.1}, hue='res_id')\n",
    "#plt.savefig('n_contacts.svg')"
   ]
  },
  {
   "cell_type": "code",
   "execution_count": null,
   "id": "be67e06d",
   "metadata": {},
   "outputs": [],
   "source": [
    "sns.regplot(x='n_contacts', y='change_avg_mut_stability', data=df, scatter_kws={'alpha':0.1})\n",
    "plt.savefig('n_contacts.svg')"
   ]
  },
  {
   "cell_type": "code",
   "execution_count": null,
   "id": "e7e64ace",
   "metadata": {},
   "outputs": [],
   "source": [
    "pwd"
   ]
  },
  {
   "cell_type": "code",
   "execution_count": null,
   "id": "b2cceb5c",
   "metadata": {},
   "outputs": [],
   "source": [
    "sns.scatterplot(x='pos1', y='res1', data=df.query('n_contacts==2'))#, hue='design')\n",
    "plt.legend(bbox_to_anchor=(1,1), loc=\"upper left\") "
   ]
  },
  {
   "cell_type": "code",
   "execution_count": null,
   "id": "f57a977c",
   "metadata": {},
   "outputs": [],
   "source": [
    "sns.distplot(a['dist'])"
   ]
  },
  {
   "cell_type": "code",
   "execution_count": null,
   "id": "c10e827f",
   "metadata": {},
   "outputs": [],
   "source": [
    "sns.displot(a['change_avg_stability'])"
   ]
  },
  {
   "cell_type": "code",
   "execution_count": null,
   "id": "ccf09a81",
   "metadata": {},
   "outputs": [],
   "source": []
  },
  {
   "cell_type": "code",
   "execution_count": null,
   "id": "1fd89ed2",
   "metadata": {},
   "outputs": [],
   "source": []
  },
  {
   "cell_type": "code",
   "execution_count": null,
   "id": "fa89a4c6",
   "metadata": {},
   "outputs": [],
   "source": []
  },
  {
   "cell_type": "code",
   "execution_count": null,
   "id": "360561cb",
   "metadata": {},
   "outputs": [],
   "source": [
    "\n"
   ]
  },
  {
   "cell_type": "code",
   "execution_count": null,
   "id": "bf800fa5",
   "metadata": {},
   "outputs": [],
   "source": []
  },
  {
   "cell_type": "code",
   "execution_count": null,
   "id": "4183b40f",
   "metadata": {},
   "outputs": [],
   "source": []
  }
 ],
 "metadata": {
  "kernelspec": {
   "display_name": "Python 3 (ipykernel)",
   "language": "python",
   "name": "python3"
  },
  "language_info": {
   "codemirror_mode": {
    "name": "ipython",
    "version": 3
   },
   "file_extension": ".py",
   "mimetype": "text/x-python",
   "name": "python",
   "nbconvert_exporter": "python",
   "pygments_lexer": "ipython3",
   "version": "3.9.12"
  }
 },
 "nbformat": 4,
 "nbformat_minor": 5
}
